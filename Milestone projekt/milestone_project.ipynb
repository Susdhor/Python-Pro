{
 "cells": [
  {
   "cell_type": "code",
   "execution_count": 1,
   "id": "90927987",
   "metadata": {},
   "outputs": [
    {
     "name": "stdout",
     "output_type": "stream",
     "text": [
      "[1, 2, 3]\n"
     ]
    }
   ],
   "source": [
    "print([1,2,3])"
   ]
  },
  {
   "cell_type": "code",
   "execution_count": 2,
   "id": "060a96ed",
   "metadata": {},
   "outputs": [],
   "source": [
    "def display(row1,row2,row3):\n",
    "    print(row1)\n",
    "    print(row2)\n",
    "    print(row3)"
   ]
  },
  {
   "cell_type": "code",
   "execution_count": 3,
   "id": "28b5112f",
   "metadata": {},
   "outputs": [
    {
     "name": "stdout",
     "output_type": "stream",
     "text": [
      "[1, 2, 3]\n",
      "[1, 2, 3]\n",
      "[1, 2, 3]\n"
     ]
    }
   ],
   "source": [
    "example_row = [1,2,3]\n",
    "display(example_row,example_row,example_row)\n"
   ]
  },
  {
   "cell_type": "code",
   "execution_count": 4,
   "id": "8b62e942",
   "metadata": {},
   "outputs": [
    {
     "name": "stdout",
     "output_type": "stream",
     "text": [
      "Please enter a value:43\n"
     ]
    }
   ],
   "source": [
    "result = input(\"Please enter a value:\")"
   ]
  },
  {
   "cell_type": "code",
   "execution_count": 5,
   "id": "a8cd785a",
   "metadata": {},
   "outputs": [
    {
     "data": {
      "text/plain": [
       "str"
      ]
     },
     "execution_count": 5,
     "metadata": {},
     "output_type": "execute_result"
    }
   ],
   "source": [
    "type(result)"
   ]
  },
  {
   "cell_type": "code",
   "execution_count": 6,
   "id": "68859163",
   "metadata": {},
   "outputs": [
    {
     "name": "stdout",
     "output_type": "stream",
     "text": [
      "Enter Value:2\n"
     ]
    }
   ],
   "source": [
    "result_int = input(\"Enter Value:\")"
   ]
  },
  {
   "cell_type": "code",
   "execution_count": 7,
   "id": "40486954",
   "metadata": {},
   "outputs": [],
   "source": [
    "result_int= int(result)"
   ]
  },
  {
   "cell_type": "code",
   "execution_count": 8,
   "id": "b2a5e4c3",
   "metadata": {},
   "outputs": [
    {
     "data": {
      "text/plain": [
       "int"
      ]
     },
     "execution_count": 8,
     "metadata": {},
     "output_type": "execute_result"
    }
   ],
   "source": [
    "type(result_int)"
   ]
  },
  {
   "cell_type": "code",
   "execution_count": 9,
   "id": "f184caaf",
   "metadata": {},
   "outputs": [
    {
     "data": {
      "text/plain": [
       "float"
      ]
     },
     "execution_count": 9,
     "metadata": {},
     "output_type": "execute_result"
    }
   ],
   "source": [
    "type(2.3)"
   ]
  },
  {
   "cell_type": "code",
   "execution_count": 10,
   "id": "75b31c16",
   "metadata": {},
   "outputs": [
    {
     "data": {
      "text/plain": [
       "3.14"
      ]
     },
     "execution_count": 10,
     "metadata": {},
     "output_type": "execute_result"
    }
   ],
   "source": [
    "float('3.14')\n"
   ]
  },
  {
   "cell_type": "code",
   "execution_count": 11,
   "id": "a0077ca9",
   "metadata": {},
   "outputs": [
    {
     "name": "stdout",
     "output_type": "stream",
     "text": [
      "Choose an index position:3\n"
     ]
    }
   ],
   "source": [
    "position_index = input(\"Choose an index position:\")"
   ]
  },
  {
   "cell_type": "code",
   "execution_count": 12,
   "id": "a8732784",
   "metadata": {},
   "outputs": [],
   "source": [
    "def user_choice():\n",
    "    choice = input(\"please enter a number(0-10): \")\n",
    "    \n",
    "    return int(choice)"
   ]
  },
  {
   "cell_type": "code",
   "execution_count": 13,
   "id": "389bb19c",
   "metadata": {},
   "outputs": [
    {
     "name": "stdout",
     "output_type": "stream",
     "text": [
      "please enter a number(0-10): 9\n"
     ]
    },
    {
     "data": {
      "text/plain": [
       "9"
      ]
     },
     "execution_count": 13,
     "metadata": {},
     "output_type": "execute_result"
    }
   ],
   "source": [
    "user_choice()"
   ]
  },
  {
   "cell_type": "code",
   "execution_count": 14,
   "id": "f0262419",
   "metadata": {},
   "outputs": [],
   "source": [
    "game_list= [0,1,2]"
   ]
  },
  {
   "cell_type": "code",
   "execution_count": 15,
   "id": "935b4bd1",
   "metadata": {},
   "outputs": [],
   "source": [
    "def display_game(game_list):\n",
    "    print(\"Here is the current list: \")\n",
    "    print(game_list)"
   ]
  },
  {
   "cell_type": "code",
   "execution_count": 16,
   "id": "43bc8bc2",
   "metadata": {},
   "outputs": [
    {
     "name": "stdout",
     "output_type": "stream",
     "text": [
      "Here is the current list: \n",
      "[0, 1, 2]\n"
     ]
    }
   ],
   "source": [
    "display_game(game_list)\n"
   ]
  },
  {
   "cell_type": "code",
   "execution_count": 17,
   "id": "89293eda",
   "metadata": {},
   "outputs": [],
   "source": [
    "def position_choice():\n",
    "    \n",
    "    choice = 'wrong'\n",
    "    \n",
    "    while choice not in ['0','1','2']:\n",
    "        \n",
    "        choice = input(\"pick a position (1,1,2): \")\n",
    "        \n",
    "        if choice not in ['0','1','2']:\n",
    "            print(\"sorry,invalid choice!\")\n",
    "    return int(choice)\n",
    "    "
   ]
  },
  {
   "cell_type": "code",
   "execution_count": 18,
   "id": "33a90153",
   "metadata": {},
   "outputs": [
    {
     "name": "stdout",
     "output_type": "stream",
     "text": [
      "pick a position (1,1,2): 1\n"
     ]
    },
    {
     "data": {
      "text/plain": [
       "1"
      ]
     },
     "execution_count": 18,
     "metadata": {},
     "output_type": "execute_result"
    }
   ],
   "source": [
    "position_choice()"
   ]
  },
  {
   "cell_type": "code",
   "execution_count": 19,
   "id": "26535720",
   "metadata": {},
   "outputs": [],
   "source": [
    "def replacement_choice(game_list,position):\n",
    "    user_placement = input(\"Type a string to place at position:\")\n",
    "    \n",
    "    game_list[position] =user_placement\n",
    "    return game_list"
   ]
  },
  {
   "cell_type": "code",
   "execution_count": 20,
   "id": "2924096e",
   "metadata": {},
   "outputs": [
    {
     "name": "stdout",
     "output_type": "stream",
     "text": [
      "Type a string to place at position:3\n"
     ]
    },
    {
     "data": {
      "text/plain": [
       "[0, '3', 2]"
      ]
     },
     "execution_count": 20,
     "metadata": {},
     "output_type": "execute_result"
    }
   ],
   "source": [
    "replacement_choice(game_list,1)\n"
   ]
  },
  {
   "cell_type": "code",
   "execution_count": 21,
   "id": "74e47d5b",
   "metadata": {},
   "outputs": [],
   "source": [
    "def gameon_choice():\n",
    "    \n",
    "    choice = 'wrong'\n",
    "    \n",
    "    while choice not in ['0','1','2']:\n",
    "        \n",
    "        choice = input(\"pick a position (1,1,2): \")\n",
    "        \n",
    "        if choice not in ['0','1','2']:\n",
    "            print(\"sorry,invalid choice!\")\n",
    "    return int(choice)\n"
   ]
  },
  {
   "cell_type": "code",
   "execution_count": 22,
   "id": "3967c189",
   "metadata": {},
   "outputs": [
    {
     "name": "stdout",
     "output_type": "stream",
     "text": [
      "pick a position (1,1,2): 2\n"
     ]
    },
    {
     "data": {
      "text/plain": [
       "2"
      ]
     },
     "execution_count": 22,
     "metadata": {},
     "output_type": "execute_result"
    }
   ],
   "source": [
    "gameon_choice()"
   ]
  },
  {
   "cell_type": "code",
   "execution_count": 23,
   "id": "3f181ac5",
   "metadata": {},
   "outputs": [],
   "source": [
    "def player_input():\n",
    "    \n",
    "    marker = ' '\n",
    "    \n",
    "    while marker != 'X' and marker != 'O':\n",
    "        marker = input ('Player 1: Choose X or O: ').upper()\n",
    "        \n",
    "    if marker == 'X':\n",
    "        return ('X' , 'O')\n",
    "    else:\n",
    "        return ('O' , 'X')"
   ]
  },
  {
   "cell_type": "code",
   "execution_count": 24,
   "id": "b912701d",
   "metadata": {},
   "outputs": [
    {
     "name": "stdout",
     "output_type": "stream",
     "text": [
      "Player 1: Choose X or O: x\n"
     ]
    }
   ],
   "source": [
    "player1_marker , player2_marker = player_input()"
   ]
  },
  {
   "cell_type": "code",
   "execution_count": 25,
   "id": "2bc08682",
   "metadata": {},
   "outputs": [
    {
     "data": {
      "text/plain": [
       "'O'"
      ]
     },
     "execution_count": 25,
     "metadata": {},
     "output_type": "execute_result"
    }
   ],
   "source": [
    "player2_marker"
   ]
  },
  {
   "cell_type": "code",
   "execution_count": null,
   "id": "11e24c36",
   "metadata": {},
   "outputs": [],
   "source": []
  },
  {
   "cell_type": "code",
   "execution_count": 26,
   "id": "7b2dccee",
   "metadata": {},
   "outputs": [
    {
     "name": "stdout",
     "output_type": "stream",
     "text": [
      "Welcome to tic tac toe\n",
      "Player 1: Choose X or O: o\n"
     ]
    },
    {
     "ename": "NameError",
     "evalue": "name 'choose_first' is not defined",
     "output_type": "error",
     "traceback": [
      "\u001b[1;31m---------------------------------------------------------------------------\u001b[0m",
      "\u001b[1;31mNameError\u001b[0m                                 Traceback (most recent call last)",
      "\u001b[1;32m<ipython-input-26-d0d98c0a8f80>\u001b[0m in \u001b[0;36m<module>\u001b[1;34m\u001b[0m\n\u001b[0;32m      6\u001b[0m     \u001b[0mplayer1_marker\u001b[0m\u001b[1;33m,\u001b[0m \u001b[0mplayer2_marker\u001b[0m \u001b[1;33m=\u001b[0m \u001b[0mplayer_input\u001b[0m\u001b[1;33m(\u001b[0m\u001b[1;33m)\u001b[0m\u001b[1;33m\u001b[0m\u001b[1;33m\u001b[0m\u001b[0m\n\u001b[0;32m      7\u001b[0m \u001b[1;33m\u001b[0m\u001b[0m\n\u001b[1;32m----> 8\u001b[1;33m     \u001b[0mturn\u001b[0m \u001b[1;33m=\u001b[0m \u001b[0mchoose_first\u001b[0m\u001b[1;33m(\u001b[0m\u001b[1;33m)\u001b[0m\u001b[1;33m\u001b[0m\u001b[1;33m\u001b[0m\u001b[0m\n\u001b[0m\u001b[0;32m      9\u001b[0m     \u001b[0mprint\u001b[0m\u001b[1;33m(\u001b[0m\u001b[0mturn\u001b[0m \u001b[1;33m+\u001b[0m \u001b[1;34m'will go first'\u001b[0m\u001b[1;33m)\u001b[0m\u001b[1;33m\u001b[0m\u001b[1;33m\u001b[0m\u001b[0m\n\u001b[0;32m     10\u001b[0m \u001b[1;33m\u001b[0m\u001b[0m\n",
      "\u001b[1;31mNameError\u001b[0m: name 'choose_first' is not defined"
     ]
    }
   ],
   "source": [
    "print('Welcome to tic tac toe')\n",
    "\n",
    "while True:\n",
    "    \n",
    "    the_board =[' ']*10\n",
    "    player1_marker, player2_marker = player_input()\n",
    "    \n",
    "    turn = choose_first()\n",
    "    print(turn + 'will go first')\n",
    "    \n",
    "    play_game = input('Ready to play? y or n?')\n",
    "    \n",
    "    if play_game == 'y':\n",
    "        game_on = True\n",
    "    else:\n",
    "        game_on= False\n",
    "    \n",
    "    while game_on:\n",
    "        \n",
    "        if turn =='Player1':\n",
    "            display_board(the_board)\n",
    "            position = player_choice(the_board)\n",
    "            place_marker (the_board,player1_marker,position)\n",
    "            \n",
    "            if win_check(the_board,player1_marker):\n",
    "                display_board(the_board)\n",
    "                print('PLAYER 1 HAS WON !!')\n",
    "                game_on = False\n",
    "            else:\n",
    "                if full_board_check(the_board):\n",
    "                    display_board(the_board)\n",
    "                    print('TIE GAME !')\n",
    "                    game_on = False\n",
    "        \n",
    "                else:\n",
    "                    turn ='Player 2'\n",
    "        else:\n",
    "            display_board(the_board)\n",
    "            position = player_choice(the_board)\n",
    "            place_marker (the_board,player2_marker,position)\n",
    "            \n",
    "            if win_check(the_board,player2_marker):\n",
    "                display_board(the_board)\n",
    "                print('PLAYER 2 HAS WON !!')\n",
    "                game_on = False\n",
    "                \n",
    "            else:\n",
    "                if full_board_check(the_board):\n",
    "                    display_board(the_board)\n",
    "                    print('TIE GAME !')\n",
    "                    game_on = False\n",
    "                else:\n",
    "                    turn= 'Player 1' \n",
    "    \n",
    "    \n",
    "    if not reply():\n",
    "        break"
   ]
  },
  {
   "cell_type": "code",
   "execution_count": null,
   "id": "08af5607",
   "metadata": {},
   "outputs": [],
   "source": []
  },
  {
   "cell_type": "code",
   "execution_count": null,
   "id": "5ecc8f44",
   "metadata": {},
   "outputs": [],
   "source": []
  }
 ],
 "metadata": {
  "kernelspec": {
   "display_name": "Python 3",
   "language": "python",
   "name": "python3"
  },
  "language_info": {
   "codemirror_mode": {
    "name": "ipython",
    "version": 3
   },
   "file_extension": ".py",
   "mimetype": "text/x-python",
   "name": "python",
   "nbconvert_exporter": "python",
   "pygments_lexer": "ipython3",
   "version": "3.8.8"
  }
 },
 "nbformat": 4,
 "nbformat_minor": 5
}
