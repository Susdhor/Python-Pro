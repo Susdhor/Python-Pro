{
 "cells": [
  {
   "cell_type": "code",
   "execution_count": 1,
   "id": "dd2d76ec",
   "metadata": {},
   "outputs": [],
   "source": [
    "def sushanta():\n",
    "    return(\"Sushanta\")\n"
   ]
  },
  {
   "cell_type": "code",
   "execution_count": 2,
   "id": "1c55c038",
   "metadata": {},
   "outputs": [
    {
     "data": {
      "text/plain": [
       "'Sushanta'"
      ]
     },
     "execution_count": 2,
     "metadata": {},
     "output_type": "execute_result"
    }
   ],
   "source": [
    "sushanta()\n"
   ]
  },
  {
   "cell_type": "code",
   "execution_count": 3,
   "id": "4d735eb1",
   "metadata": {},
   "outputs": [
    {
     "data": {
      "text/plain": [
       "<function __main__.sushanta()>"
      ]
     },
     "execution_count": 3,
     "metadata": {},
     "output_type": "execute_result"
    }
   ],
   "source": [
    "sushanta"
   ]
  },
  {
   "cell_type": "code",
   "execution_count": 52,
   "id": "f04e5f69",
   "metadata": {},
   "outputs": [],
   "source": [
    "def greet():\n",
    "    return(\"greet!\")"
   ]
  },
  {
   "cell_type": "code",
   "execution_count": 53,
   "id": "e3c287b7",
   "metadata": {},
   "outputs": [
    {
     "data": {
      "text/plain": [
       "'greet!'"
      ]
     },
     "execution_count": 53,
     "metadata": {},
     "output_type": "execute_result"
    }
   ],
   "source": [
    "greet()\n",
    "\n"
   ]
  },
  {
   "cell_type": "code",
   "execution_count": 5,
   "id": "955210e2",
   "metadata": {},
   "outputs": [],
   "source": [
    "greet = sushanta\n"
   ]
  },
  {
   "cell_type": "code",
   "execution_count": 55,
   "id": "6f9898e7",
   "metadata": {},
   "outputs": [
    {
     "data": {
      "text/plain": [
       "'Mousumi'"
      ]
     },
     "execution_count": 55,
     "metadata": {},
     "output_type": "execute_result"
    }
   ],
   "source": [
    "greet()"
   ]
  },
  {
   "cell_type": "code",
   "execution_count": 6,
   "id": "2c861148",
   "metadata": {},
   "outputs": [
    {
     "data": {
      "text/plain": [
       "'Sushanta'"
      ]
     },
     "execution_count": 6,
     "metadata": {},
     "output_type": "execute_result"
    }
   ],
   "source": [
    "sushanta()"
   ]
  },
  {
   "cell_type": "code",
   "execution_count": 7,
   "id": "1e039b95",
   "metadata": {},
   "outputs": [],
   "source": [
    "del sushanta\n"
   ]
  },
  {
   "cell_type": "code",
   "execution_count": 8,
   "id": "556257a5",
   "metadata": {},
   "outputs": [
    {
     "data": {
      "text/plain": [
       "'Sushanta'"
      ]
     },
     "execution_count": 8,
     "metadata": {},
     "output_type": "execute_result"
    }
   ],
   "source": [
    "greet()"
   ]
  },
  {
   "cell_type": "code",
   "execution_count": null,
   "id": "4e25c742",
   "metadata": {},
   "outputs": [],
   "source": []
  },
  {
   "cell_type": "code",
   "execution_count": null,
   "id": "6c073d49",
   "metadata": {},
   "outputs": [],
   "source": []
  },
  {
   "cell_type": "code",
   "execution_count": null,
   "id": "23372cab",
   "metadata": {},
   "outputs": [],
   "source": []
  },
  {
   "cell_type": "code",
   "execution_count": null,
   "id": "2b645e86",
   "metadata": {},
   "outputs": [],
   "source": [
    "\n"
   ]
  },
  {
   "cell_type": "code",
   "execution_count": 59,
   "id": "1cad85ef",
   "metadata": {},
   "outputs": [],
   "source": [
    "def Mousumi(name='rani deb'):\n",
    "    print('The Mousumi() function has been executed!')\n",
    "    \n",
    "    def greet():\n",
    "        return '\\t This is greet() func inside Mousumi!'\n",
    "    def welcome():\n",
    "        return '\\t This is welcome() inside Mousumi'\n",
    "    \n",
    "    print(greet())\n",
    "    print(welcome())\n",
    "    print('This is the end of the Mousumi function!')\n"
   ]
  },
  {
   "cell_type": "code",
   "execution_count": 60,
   "id": "acf7e476",
   "metadata": {},
   "outputs": [
    {
     "name": "stdout",
     "output_type": "stream",
     "text": [
      "The Mousumi() function has been executed!\n",
      "\t This is greet() func inside Mousumi!\n",
      "\t This is welcome() inside Mousumi\n",
      "This is the end of the Mousumi function!\n"
     ]
    }
   ],
   "source": [
    "Mousumi()"
   ]
  },
  {
   "cell_type": "code",
   "execution_count": 61,
   "id": "a2f68160",
   "metadata": {},
   "outputs": [],
   "source": [
    "def Mousumi(name='rani deb'):\n",
    "    print('The Mousumi() function has been executed!')\n",
    "    \n",
    "    def greet():\n",
    "        return '\\t This is greet() func inside Mousumi!'\n",
    "    def welcome():\n",
    "        return '\\t This is welcome() inside Mousumi'\n",
    "    \n",
    "    print(\"I am going to return a function!!\")\n",
    "    \n",
    "    if name == 'rani deb':\n",
    "        return greet\n",
    "    else:\n",
    "        return welcome\n",
    "    \n",
    "    "
   ]
  },
  {
   "cell_type": "code",
   "execution_count": 62,
   "id": "30d8b85f",
   "metadata": {},
   "outputs": [
    {
     "name": "stdout",
     "output_type": "stream",
     "text": [
      "The Mousumi() function has been executed!\n",
      "I am going to return a function!!\n"
     ]
    }
   ],
   "source": [
    "my_new_func = Mousumi('rani deb')"
   ]
  },
  {
   "cell_type": "code",
   "execution_count": 63,
   "id": "48e9890b",
   "metadata": {},
   "outputs": [
    {
     "name": "stdout",
     "output_type": "stream",
     "text": [
      "\t This is greet() func inside Mousumi!\n"
     ]
    }
   ],
   "source": [
    "print(my_new_func())\n"
   ]
  },
  {
   "cell_type": "code",
   "execution_count": 64,
   "id": "e8221638",
   "metadata": {},
   "outputs": [],
   "source": [
    "def cool():\n",
    "    \n",
    "    def super_cool():\n",
    "        return 'i am very cool !'\n",
    "    return super_cool"
   ]
  },
  {
   "cell_type": "code",
   "execution_count": 65,
   "id": "60b730f6",
   "metadata": {},
   "outputs": [],
   "source": [
    "some_func = cool()"
   ]
  },
  {
   "cell_type": "code",
   "execution_count": 66,
   "id": "198292d1",
   "metadata": {},
   "outputs": [
    {
     "data": {
      "text/plain": [
       "'i am very cool !'"
      ]
     },
     "execution_count": 66,
     "metadata": {},
     "output_type": "execute_result"
    }
   ],
   "source": [
    "some_func()"
   ]
  },
  {
   "cell_type": "code",
   "execution_count": null,
   "id": "d90f804d",
   "metadata": {},
   "outputs": [],
   "source": []
  },
  {
   "cell_type": "code",
   "execution_count": 67,
   "id": "4898ab8a",
   "metadata": {},
   "outputs": [],
   "source": [
    "def Mousumi():\n",
    "    return 'Hi rani deb!'"
   ]
  },
  {
   "cell_type": "code",
   "execution_count": 68,
   "id": "43410c3a",
   "metadata": {},
   "outputs": [],
   "source": [
    "def other(some_def_func):\n",
    "    print('other code runs here!')\n",
    "    print(some_def_func())"
   ]
  },
  {
   "cell_type": "code",
   "execution_count": 69,
   "id": "ebb763d9",
   "metadata": {},
   "outputs": [
    {
     "data": {
      "text/plain": [
       "<function __main__.Mousumi()>"
      ]
     },
     "execution_count": 69,
     "metadata": {},
     "output_type": "execute_result"
    }
   ],
   "source": [
    "Mousumi"
   ]
  },
  {
   "cell_type": "code",
   "execution_count": 70,
   "id": "fe927ffe",
   "metadata": {},
   "outputs": [
    {
     "data": {
      "text/plain": [
       "'Hi rani deb!'"
      ]
     },
     "execution_count": 70,
     "metadata": {},
     "output_type": "execute_result"
    }
   ],
   "source": [
    "Mousumi()"
   ]
  },
  {
   "cell_type": "code",
   "execution_count": 71,
   "id": "2c3eb08f",
   "metadata": {},
   "outputs": [
    {
     "name": "stdout",
     "output_type": "stream",
     "text": [
      "other code runs here!\n",
      "Hi rani deb!\n"
     ]
    }
   ],
   "source": [
    "other (Mousumi)"
   ]
  },
  {
   "cell_type": "code",
   "execution_count": null,
   "id": "46167308",
   "metadata": {},
   "outputs": [],
   "source": []
  },
  {
   "cell_type": "code",
   "execution_count": 72,
   "id": "ba30e6db",
   "metadata": {},
   "outputs": [],
   "source": [
    "def new_decorator(original_func):\n",
    "    \n",
    "    def wrap_func():\n",
    "        \n",
    "        print('Some extra code, before the original function!')\n",
    "        \n",
    "        original_func()\n",
    "        print('some extra code, after the original function!')\n",
    "        \n",
    "    return wrap_func"
   ]
  },
  {
   "cell_type": "code",
   "execution_count": 73,
   "id": "d603f096",
   "metadata": {},
   "outputs": [],
   "source": [
    "def func_needs_decorator():\n",
    "    print(\"I want to be dcorated!!\")"
   ]
  },
  {
   "cell_type": "code",
   "execution_count": 74,
   "id": "3f68134b",
   "metadata": {},
   "outputs": [
    {
     "name": "stdout",
     "output_type": "stream",
     "text": [
      "I want to be dcorated!!\n"
     ]
    }
   ],
   "source": [
    "func_needs_decorator()"
   ]
  },
  {
   "cell_type": "code",
   "execution_count": 76,
   "id": "06a2e79b",
   "metadata": {},
   "outputs": [],
   "source": [
    "decorated_func = new_decorator(func_needs_decorator)\n"
   ]
  },
  {
   "cell_type": "code",
   "execution_count": 77,
   "id": "72bf2743",
   "metadata": {},
   "outputs": [
    {
     "name": "stdout",
     "output_type": "stream",
     "text": [
      "Some extra code, before the original function!\n",
      "I want to be dcorated!!\n",
      "some extra code, after the original function!\n"
     ]
    }
   ],
   "source": [
    "decorated_func()"
   ]
  },
  {
   "cell_type": "code",
   "execution_count": 78,
   "id": "6016f62d",
   "metadata": {},
   "outputs": [],
   "source": [
    "@new_decorator\n",
    "def func_needs_decorator():\n",
    "    print(\"I want to be decorated!!\")"
   ]
  },
  {
   "cell_type": "code",
   "execution_count": 79,
   "id": "231b35ef",
   "metadata": {},
   "outputs": [
    {
     "name": "stdout",
     "output_type": "stream",
     "text": [
      "Some extra code, before the original function!\n",
      "I want to be decorated!!\n",
      "some extra code, after the original function!\n"
     ]
    }
   ],
   "source": [
    "func_needs_decorator()"
   ]
  },
  {
   "cell_type": "code",
   "execution_count": null,
   "id": "987a1ddf",
   "metadata": {},
   "outputs": [],
   "source": []
  }
 ],
 "metadata": {
  "kernelspec": {
   "display_name": "Python 3",
   "language": "python",
   "name": "python3"
  },
  "language_info": {
   "codemirror_mode": {
    "name": "ipython",
    "version": 3
   },
   "file_extension": ".py",
   "mimetype": "text/x-python",
   "name": "python",
   "nbconvert_exporter": "python",
   "pygments_lexer": "ipython3",
   "version": "3.9.0"
  }
 },
 "nbformat": 4,
 "nbformat_minor": 5
}
