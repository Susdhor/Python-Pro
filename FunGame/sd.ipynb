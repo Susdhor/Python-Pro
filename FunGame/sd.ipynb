{
 "cells": [
  {
   "cell_type": "code",
   "execution_count": 1,
   "metadata": {},
   "outputs": [
    {
     "name": "stdout",
     "output_type": "stream",
     "text": [
      "Welcome to the Exciting Adventure Game!\n",
      "You find yourself standing in front of two mysterious doors.\n",
      "Do you choose door 1 or door 2?\n",
      "\n",
      "You open door 1 and find a treasure chest!\n",
      "Congratulations! You've won!\n"
     ]
    }
   ],
   "source": [
    "import time\n",
    "\n",
    "def introduction():\n",
    "    print(\"Welcome to the Exciting Adventure Game!\")\n",
    "    time.sleep(1)\n",
    "    print(\"You find yourself standing in front of two mysterious doors.\")\n",
    "    time.sleep(1)\n",
    "    print(\"Do you choose door 1 or door 2?\")\n",
    "\n",
    "def door_choice():\n",
    "    choice = input(\"Enter 1 or 2: \")\n",
    "    if choice == \"1\":\n",
    "        print(\"\\nYou open door 1 and find a treasure chest!\")\n",
    "        time.sleep(1)\n",
    "        print(\"Congratulations! You've won!\")\n",
    "    elif choice == \"2\":\n",
    "        print(\"\\nYou open door 2 and step into a dark cave.\")\n",
    "        time.sleep(1)\n",
    "        print(\"You encounter a dragon!\")\n",
    "        time.sleep(1)\n",
    "        print(\"What do you want to do?\")\n",
    "        time.sleep(1)\n",
    "        print(\"1. Fight the dragon\")\n",
    "        print(\"2. Try to sneak past the dragon\")\n",
    "        action = input(\"Enter 1 or 2: \")\n",
    "        if action == \"1\":\n",
    "            print(\"\\nYou bravely fight the dragon...\")\n",
    "            time.sleep(1)\n",
    "            print(\"Unfortunately, the dragon is too powerful. You lose!\")\n",
    "        elif action == \"2\":\n",
    "            print(\"\\nYou attempt to sneak past the dragon...\")\n",
    "            time.sleep(1)\n",
    "            print(\"Success! You sneak past the dragon and escape the cave.\")\n",
    "            time.sleep(1)\n",
    "            print(\"Congratulations! You've survived!\")\n",
    "\n",
    "if __name__ == \"__main__\":\n",
    "    introduction()\n",
    "    door_choice()\n"
   ]
  }
 ],
 "metadata": {
  "kernelspec": {
   "display_name": "Python 3",
   "language": "python",
   "name": "python3"
  },
  "language_info": {
   "codemirror_mode": {
    "name": "ipython",
    "version": 3
   },
   "file_extension": ".py",
   "mimetype": "text/x-python",
   "name": "python",
   "nbconvert_exporter": "python",
   "pygments_lexer": "ipython3",
   "version": "undefined.undefined.undefined"
  }
 },
 "nbformat": 4,
 "nbformat_minor": 2
}
