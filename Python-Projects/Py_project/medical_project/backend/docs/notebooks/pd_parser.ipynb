{
 "cells": [
  {
   "cell_type": "code",
   "execution_count": 6,
   "metadata": {},
   "outputs": [
    {
     "data": {
      "text/plain": [
       "[<PIL.PpmImagePlugin.PpmImageFile image mode=RGB size=1867x2000>,\n",
       " <PIL.PpmImagePlugin.PpmImageFile image mode=RGB size=2000x1398>]"
      ]
     },
     "execution_count": 6,
     "metadata": {},
     "output_type": "execute_result"
    }
   ],
   "source": [
    "from pdf2image import convert_from_path\n",
    "\n",
    "pages = convert_from_path(r'C:/Users/E7440/Python/Py_project/medical_project/patient_details/pd_1.pdf', \n",
    "                          poppler_path=r'C:/Users/E7440/poppler-23.11.0/Library/bin')\n",
    "\n",
    "pages"
   ]
  },
  {
   "cell_type": "code",
   "execution_count": 7,
   "metadata": {},
   "outputs": [],
   "source": [
    "pages[0].show()"
   ]
  },
  {
   "cell_type": "code",
   "execution_count": 8,
   "metadata": {},
   "outputs": [
    {
     "name": "stdout",
     "output_type": "stream",
     "text": [
      "47/12/2020\n",
      "\n",
      "Patient Medical Record\n",
      "\n",
      "Patient Information Birth Date\n",
      "Kathy Crawford May 6 1972\n",
      "(737) 988-0851 Weight\n",
      "9264 Ash Dr 95\n",
      "New York City, 10005 .\n",
      "United States Height:\n",
      "190\n",
      "In Case of Emergency\n",
      "m _ a _\n",
      "Simeone Crawford 9266 Ash Dr\n",
      "New York City, New York, 10005\n",
      "Home phone United States\n",
      "(990) 375-4621\n",
      "Work phone\n",
      "Genera! Medical History\n",
      ". : a ee\n",
      "\n",
      "Chicken Pox (Varicella):\n",
      "\n",
      "IMMUNE\n",
      "\n",
      "Have you had the Hepatitis B vaccination?\n",
      "\n",
      "No\n",
      "\n",
      "List any Medical Problems (asthma, seizures, headaches):\n",
      "\n",
      "Migraine\n",
      "\n"
     ]
    }
   ],
   "source": [
    "import pytesseract\n",
    "\n",
    "pytesseract.pytesseract.tesseract_cmd = r'C:/Program Files/Tesseract-OCR/tesseract.exe'\n",
    "text = pytesseract.image_to_string(pages[0], lang='eng')\n",
    "print(text)"
   ]
  },
  {
   "cell_type": "code",
   "execution_count": 16,
   "metadata": {},
   "outputs": [
    {
     "name": "stdout",
     "output_type": "stream",
     "text": [
      "17/12/2020\n",
      "\n",
      "Patient Medical Record . : :\n",
      "\n",
      "Patient Information\n",
      "\n",
      "Birth Date\n",
      "Kathy Crawford May 6 1972\n",
      "(737) 988-0851 Weight:\n",
      "9264 Ash Dr 95\n",
      "New York City, 10005 a\n",
      "United States Height:\n",
      "190\n",
      "In Case of Emergency\n",
      "en oe\n",
      "Simeone Crawford 9266 Ash Dr\n",
      "New York City, New York, 10005\n",
      "Home phone United States\n",
      "(990) 375-4621\n",
      "Work phone\n",
      "Genera! Medical History\n",
      "I a\n",
      "Chicken Pox (Varicella): Measies:\n",
      "IMMUNE IMMUNE\n",
      "\n",
      "Have you had the Hepatitis B vaccination?\n",
      "\n",
      "No\n",
      "\n",
      "List any Medical Problems (asthma, seizures, headaches):\n",
      "\n",
      "Migraine\n",
      "\n"
     ]
    }
   ],
   "source": [
    "import numpy as np\n",
    "import cv2\n",
    "from PIL import Image\n",
    "\n",
    "def preprocess_image(img):\n",
    "    gray = cv2.cvtColor(np.array(img), cv2.COLOR_BGR2GRAY)\n",
    "    resized = cv2.resize(gray, None, fx=2, fy=2, interpolation=cv2.INTER_LINEAR) # noqa\n",
    "    processed_img = cv2.adaptiveThreshold(resized, 255, cv2.ADAPTIVE_THRESH_GAUSSIAN_C, cv2.THRESH_BINARY, 61, 11) # noqa\n",
    "    return processed_img\n",
    "\n",
    "\n",
    "img = preprocess_image(pages[0])\n",
    "Image.fromarray(img).show()\n",
    "\n",
    "text = pytesseract.image_to_string(img, lang='eng')\n",
    "print(text)"
   ]
  },
  {
   "cell_type": "code",
   "execution_count": null,
   "metadata": {},
   "outputs": [],
   "source": []
  }
 ],
 "metadata": {
  "kernelspec": {
   "display_name": "tensorflow_test",
   "language": "python",
   "name": "python3"
  },
  "language_info": {
   "codemirror_mode": {
    "name": "ipython",
    "version": 3
   },
   "file_extension": ".py",
   "mimetype": "text/x-python",
   "name": "python",
   "nbconvert_exporter": "python",
   "pygments_lexer": "ipython3",
   "version": "3.10.12"
  }
 },
 "nbformat": 4,
 "nbformat_minor": 2
}
