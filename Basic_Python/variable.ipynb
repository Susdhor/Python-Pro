{
 "cells": [
  {
   "cell_type": "markdown",
   "metadata": {},
   "source": [
    "-- Variable--\n",
    "a variable is a named storage location used to store data values. \n",
    "<br>\n",
    "It's a way to associate a name with a memory location, allowing you to refer to the data by that name.\n",
    "<br>\n",
    "Variables are used to store and manipulate data in a program."
   ]
  },
  {
   "cell_type": "markdown",
   "metadata": {},
   "source": [
    "Variable Naming Rules:\n",
    "<br>\n",
    "Variable names can contain letters, numbers, and underscores.\n",
    "<br>\n",
    "They must start with a letter or an underscore.\n",
    "<br>\n",
    "Python keywords (e.g., if, else, for, while, etc.) cannot be used as variable names."
   ]
  },
  {
   "cell_type": "code",
   "execution_count": 2,
   "metadata": {},
   "outputs": [
    {
     "name": "stdout",
     "output_type": "stream",
     "text": [
      "My Full name is Sushanta Dhar\n"
     ]
    }
   ],
   "source": [
    "# variable example\n",
    "first_name = \"Sushanta\"\n",
    "last_name = \"Dhar\"\n",
    "print(f\"My Full name is {first_name} {last_name}\")"
   ]
  },
  {
   "cell_type": "code",
   "execution_count": 1,
   "metadata": {},
   "outputs": [
    {
     "name": "stdout",
     "output_type": "stream",
     "text": [
      "8\n"
     ]
    }
   ],
   "source": [
    "# Assigning a value to a variable\n",
    "x = 5\n",
    "# Using the variable in an expression\n",
    "y = x + 3\n",
    "# Printing the result\n",
    "print(y)"
   ]
  },
  {
   "cell_type": "markdown",
   "metadata": {},
   "source": [
    "Dynamic Typing: \n",
    "<br>\n",
    "Python is dynamically typed, meaning you don't need to explicitly declare the data type of a variable. \n",
    "<br>\n",
    "The interpreter infers the type based on the assigned value.\n",
    "<br>\n",
    "example: my_variable = 10  # Integer, my_variable = \"Hello\"  # String\n"
   ]
  },
  {
   "cell_type": "code",
   "execution_count": 3,
   "metadata": {},
   "outputs": [
    {
     "name": "stdout",
     "output_type": "stream",
     "text": [
      "Simple Interest for 2.0 years: 13000.0\n"
     ]
    }
   ],
   "source": [
    "# This simple calculator will help you to get the interest amount depend on input value.\n",
    "# Input values\n",
    "principal_amount = float(input(\"Enter the principal amount: \"))\n",
    "rate_of_interest = float(input(\"Enter the rate of interest (in percentage): \"))\n",
    "time_in_years = float(input(\"Enter the year you want to save: \"))\n",
    "\n",
    "# Calculate Simple Interest\n",
    "simple_interest = (principal_amount * rate_of_interest * time_in_years) / 100\n",
    "\n",
    "# Display the result\n",
    "print(f\"Simple Interest for {time_in_years} years: {simple_interest}\")\n"
   ]
  },
  {
   "cell_type": "markdown",
   "metadata": {},
   "source": [
    "Memory Allocation: \n",
    "<br>\n",
    "Python automatically handles memory allocation and garbage collection for variables.\n",
    "<br>\n",
    "Scope: The scope of a variable determines where in the code it can be accessed.\n",
    "<br>\n",
    "Variables can be local (limited to a specific block or function) or global (accessible throughout the entire program)."
   ]
  },
  {
   "cell_type": "code",
   "execution_count": 4,
   "metadata": {},
   "outputs": [],
   "source": [
    "# exmaple of local and global variable\n",
    "global_variable = 10  # Global variable\n",
    "\n",
    "def my_function():\n",
    "    local_variable = 5  # Local variable"
   ]
  },
  {
   "cell_type": "markdown",
   "metadata": {},
   "source": [
    "Variables in Python can hold values of different data types, such as integers, floats, strings, lists, dictionaries, and more.\n",
    "<br>\n",
    "The type of a variable is determined dynamically based on the value it holds."
   ]
  }
 ],
 "metadata": {
  "kernelspec": {
   "display_name": "Python 3",
   "language": "python",
   "name": "python3"
  },
  "language_info": {
   "codemirror_mode": {
    "name": "ipython",
    "version": 3
   },
   "file_extension": ".py",
   "mimetype": "text/x-python",
   "name": "python",
   "nbconvert_exporter": "python",
   "pygments_lexer": "ipython3",
   "version": "3.9.0"
  }
 },
 "nbformat": 4,
 "nbformat_minor": 2
}
