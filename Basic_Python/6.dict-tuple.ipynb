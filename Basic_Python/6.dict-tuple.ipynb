{
 "cells": [
  {
   "cell_type": "markdown",
   "metadata": {},
   "source": [
    "In Python, a ***tuple*** is a collection data type that is similar to a list. However, unlike lists, tuples are immutable, meaning their elements cannot be modified once the tuple is created. Tuples are defined using parentheses ()."
   ]
  },
  {
   "cell_type": "code",
   "execution_count": 1,
   "metadata": {},
   "outputs": [],
   "source": [
    "point = (5, 6)"
   ]
  },
  {
   "cell_type": "markdown",
   "metadata": {},
   "source": [
    "write a function to find Price to Earnings Ratio & Price to Book Value ratio of a company stock"
   ]
  },
  {
   "cell_type": "code",
   "execution_count": 5,
   "metadata": {},
   "outputs": [],
   "source": [
    "# functions for price earning & price to book\n",
    "def find_pe_and_pb(price, eps, book_value):\n",
    "    pe = price/eps\n",
    "    pb = price/book_value\n",
    "    return pe, pb"
   ]
  },
  {
   "cell_type": "code",
   "execution_count": 6,
   "metadata": {},
   "outputs": [
    {
     "name": "stdout",
     "output_type": "stream",
     "text": [
      "50.0\n",
      "20.0\n"
     ]
    }
   ],
   "source": [
    "pe_ratio, pb_ratio = find_pe_and_pb(100,2,5)\n",
    "print(pe_ratio)\n",
    "print(pb_ratio)"
   ]
  },
  {
   "cell_type": "markdown",
   "metadata": {},
   "source": [
    "**Dictionary**"
   ]
  },
  {
   "cell_type": "code",
   "execution_count": 13,
   "metadata": {},
   "outputs": [],
   "source": [
    "# Example of list with tuple\n",
    "contracts = [('Mousumi',765835112), ('Sushanta', 7140830),('Radhika', 75863245)]"
   ]
  },
  {
   "cell_type": "code",
   "execution_count": 11,
   "metadata": {},
   "outputs": [
    {
     "name": "stdout",
     "output_type": "stream",
     "text": [
      "7140830\n"
     ]
    }
   ],
   "source": [
    "for contract in contracts:\n",
    "    if contract[0] == 'Sushanta':\n",
    "        print(contract[1])"
   ]
  },
  {
   "cell_type": "code",
   "execution_count": 68,
   "metadata": {},
   "outputs": [
    {
     "data": {
      "text/plain": [
       "{'Mousumi': 765835112, 'Sushanta': 7140830, 'Radhika': 75863245}"
      ]
     },
     "execution_count": 68,
     "metadata": {},
     "output_type": "execute_result"
    }
   ],
   "source": [
    "# Example of Dictionary \n",
    "d = {'Mousumi': 765835112, \n",
    "     'Sushanta': 7140830,\n",
    "     'Radhika': 75863245}\n",
    "d"
   ]
  },
  {
   "cell_type": "code",
   "execution_count": 73,
   "metadata": {},
   "outputs": [
    {
     "name": "stdout",
     "output_type": "stream",
     "text": [
      "765835112\n",
      "2\n"
     ]
    }
   ],
   "source": [
    "print(d['Mousumi'])\n",
    "print(d.get('momo', 2))\n"
   ]
  },
  {
   "cell_type": "code",
   "execution_count": 22,
   "metadata": {},
   "outputs": [],
   "source": [
    "d['Sushanta']=111245542"
   ]
  },
  {
   "cell_type": "code",
   "execution_count": 23,
   "metadata": {},
   "outputs": [
    {
     "data": {
      "text/plain": [
       "{'Mousumi': 765835112, 'Sushanta': 111245542, 'Radhika': 75863245}"
      ]
     },
     "execution_count": 23,
     "metadata": {},
     "output_type": "execute_result"
    }
   ],
   "source": [
    "d"
   ]
  },
  {
   "cell_type": "code",
   "execution_count": 24,
   "metadata": {},
   "outputs": [],
   "source": [
    "d['Moni']= 5654588"
   ]
  },
  {
   "cell_type": "code",
   "execution_count": 29,
   "metadata": {},
   "outputs": [
    {
     "name": "stdout",
     "output_type": "stream",
     "text": [
      "Mousumi 765835112\n",
      "Sushanta 111245542\n",
      "Radhika 75863245\n",
      "Moni 5654588\n"
     ]
    }
   ],
   "source": [
    "for name in d:\n",
    "    print(name,d[name])"
   ]
  },
  {
   "cell_type": "code",
   "execution_count": 30,
   "metadata": {},
   "outputs": [
    {
     "name": "stdout",
     "output_type": "stream",
     "text": [
      "Mousumi 765835112\n",
      "Sushanta 111245542\n",
      "Radhika 75863245\n",
      "Moni 5654588\n"
     ]
    }
   ],
   "source": [
    "for name, number in d.items():\n",
    "    print(name, number)"
   ]
  },
  {
   "cell_type": "code",
   "execution_count": 34,
   "metadata": {},
   "outputs": [
    {
     "data": {
      "text/plain": [
       "dict_keys(['Mousumi', 'Sushanta', 'Radhika', 'Moni'])"
      ]
     },
     "execution_count": 34,
     "metadata": {},
     "output_type": "execute_result"
    }
   ],
   "source": [
    "d.keys()"
   ]
  },
  {
   "cell_type": "code",
   "execution_count": 35,
   "metadata": {},
   "outputs": [
    {
     "data": {
      "text/plain": [
       "dict_values([765835112, 111245542, 75863245, 5654588])"
      ]
     },
     "execution_count": 35,
     "metadata": {},
     "output_type": "execute_result"
    }
   ],
   "source": [
    "d.values()"
   ]
  },
  {
   "cell_type": "code",
   "execution_count": 36,
   "metadata": {},
   "outputs": [],
   "source": [
    "salaries = {\n",
    "\t'python': { 'junior': '100k', 'senior': '600k' },\n",
    "\t'php': { 'junior': '70k', 'senior': '400k' },\n",
    "\t'java': { 'junior': '80k', 'senior': '500k' },\n",
    "\t}"
   ]
  },
  {
   "cell_type": "code",
   "execution_count": 37,
   "metadata": {},
   "outputs": [
    {
     "data": {
      "text/plain": [
       "'400k'"
      ]
     },
     "execution_count": 37,
     "metadata": {},
     "output_type": "execute_result"
    }
   ],
   "source": [
    "salaries['php']['senior']"
   ]
  },
  {
   "cell_type": "markdown",
   "metadata": {},
   "source": [
    " 1. Create a list of your friend’s name and now create a list of tuples. The tuple should contain the friend’s name and length of the name. For Example: if someone’s name is Aditya, the tuple would be: (‘Aditya’, 6)"
   ]
  },
  {
   "cell_type": "code",
   "execution_count": 39,
   "metadata": {},
   "outputs": [],
   "source": [
    "def list_of_tuples(friends_list):\n",
    "    new_list = []\n",
    "    for friend in friends_list:\n",
    "        friend_tuple = (friend, len(friend))\n",
    "        new_list.append(friend_tuple)\n",
    "\n",
    "    return new_list"
   ]
  },
  {
   "cell_type": "code",
   "execution_count": 40,
   "metadata": {},
   "outputs": [
    {
     "data": {
      "text/plain": [
       "[('Sushil', 6),\n",
       " ('Dhabal', 6),\n",
       " ('Subhir', 6),\n",
       " ('Limon', 5),\n",
       " ('Leason', 6),\n",
       " ('Kawshik', 7)]"
      ]
     },
     "execution_count": 40,
     "metadata": {},
     "output_type": "execute_result"
    }
   ],
   "source": [
    "friends = ['Sushil', 'Dhabal','Subhir','Limon','Leason','Kawshik']\n",
    "list_of_tuples(friends)"
   ]
  },
  {
   "cell_type": "code",
   "execution_count": 41,
   "metadata": {},
   "outputs": [
    {
     "data": {
      "text/plain": [
       "[('vivek', 5), ('Rajmoli', 7), ('Sunil', 5)]"
      ]
     },
     "execution_count": 41,
     "metadata": {},
     "output_type": "execute_result"
    }
   ],
   "source": [
    "list_of_tuples(['vivek','Rajmoli','Sunil'])"
   ]
  },
  {
   "cell_type": "markdown",
   "metadata": {},
   "source": [
    " 2.  You and your wife argued upon expenses last night. You both want to know who is spending more in a month. Now you both go to the Little Yoda he is a good python programmer, he suggested both of you to add an entry in a dictionary when next time you spent money. So that you can have clear picture about your expenses and plan to reduce it. Both dictionaries are as below-\n",
    "Your expenses - \n",
    "\n",
    "* Clothes - 1100\n",
    "* Shoes - 1000\n",
    "* Watch - 900\n",
    "* Mobile Recharge - 699\n",
    "* Petrol - 1980\n",
    "\n",
    "Your Wife’s expenses - \n",
    "* Mobile Recharge - 799\n",
    "* DTH recharge - 999\n",
    "* Clothes - 2310\n",
    "* Makeup - 3670\n",
    "* Shoes - 999\n",
    "\n",
    "A) Find out total expenses of each of you.\\\n",
    "B) Find out who spending more\\\n",
    "C) Find out in which thing you and your wife spending more "
   ]
  },
  {
   "cell_type": "code",
   "execution_count": 42,
   "metadata": {},
   "outputs": [],
   "source": [
    "# Creating a empty dictionary\n",
    "my_expenses = dict()\n",
    "wife_expenses = dict()"
   ]
  },
  {
   "cell_type": "code",
   "execution_count": 43,
   "metadata": {},
   "outputs": [],
   "source": [
    "# adding data to the dictionaries \n",
    "my_expenses['Clothes'] = 100\n",
    "my_expenses['Shoes'] = 1000\n",
    "my_expenses['Watch'] = 900\n",
    "my_expenses['Mobile Recharge'] = 699\n",
    "my_expenses['Petrol'] = 1980"
   ]
  },
  {
   "cell_type": "code",
   "execution_count": 45,
   "metadata": {},
   "outputs": [],
   "source": [
    "wife_expenses.update({\n",
    "    \"Mobile recharge\": 800,\n",
    "    \"DTH recharge\": 986,\n",
    "    \"Clothes\": 2500,\n",
    "    \"Makeup\": 3500,\n",
    "    \"Shoes\": 650\n",
    "})"
   ]
  },
  {
   "cell_type": "code",
   "execution_count": 46,
   "metadata": {},
   "outputs": [
    {
     "name": "stdout",
     "output_type": "stream",
     "text": [
      "{'Clothes': 100, 'Shoes': 1000, 'Watch': 900, 'Mobile Recharge': 699, 'Petrol': 1980}\n",
      "{'Mobile recharge': 800, 'DTH recharge': 986, 'Clothes': 2500, 'Makeup': 3500, 'Shoes': 650}\n"
     ]
    }
   ],
   "source": [
    "print(my_expenses)\n",
    "print(wife_expenses)"
   ]
  },
  {
   "cell_type": "code",
   "execution_count": 50,
   "metadata": {},
   "outputs": [
    {
     "name": "stdout",
     "output_type": "stream",
     "text": [
      "Total My expenses: 4679\n",
      "Total Wife expences: 8436\n"
     ]
    }
   ],
   "source": [
    "# Function for finding total expences \n",
    "def total_expenses(expenses):\n",
    "    total = 0\n",
    "    for key in expenses:\n",
    "        total += expenses[key]\n",
    "    return total\n",
    "\n",
    "print(f\"Total My expenses: {total_expenses(my_expenses)}\")\n",
    "print(f\"Total Wife expences: {total_expenses(wife_expenses)}\")\n"
   ]
  },
  {
   "cell_type": "code",
   "execution_count": 51,
   "metadata": {},
   "outputs": [
    {
     "name": "stdout",
     "output_type": "stream",
     "text": [
      "13115\n"
     ]
    }
   ],
   "source": [
    "both_expenses = total_expenses(my_expenses) + total_expenses(wife_expenses)\n",
    "print(both_expenses)"
   ]
  },
  {
   "cell_type": "code",
   "execution_count": 56,
   "metadata": {},
   "outputs": [
    {
     "name": "stdout",
     "output_type": "stream",
     "text": [
      " My wife spent more than me. my wife expenses is: 8436\n"
     ]
    }
   ],
   "source": [
    "# find whos expenses more\n",
    "me = total_expenses(my_expenses)\n",
    "wife = total_expenses(wife_expenses)\n",
    "\n",
    "if me > wife:\n",
    "    print(f\"I spent more than my wife.: my expense are: {me}\")\n",
    "else:\n",
    "    print(f\" My wife spent more than me. my wife expenses are: {wife}\")"
   ]
  },
  {
   "cell_type": "code",
   "execution_count": 57,
   "metadata": {},
   "outputs": [],
   "source": [
    "# c. finding expensive thing\n",
    "# If we can sort the dictionary in increasing order or decreasing order\n",
    "# we can find it easily\n",
    "\n",
    "def sort_dict(dictionary):\n",
    "    # because we need to sort the dictionary according to the values\n",
    "    sort_dict = sorted(dictionary.items(), key=lambda kv:kv[1])\n",
    "    return sort_dict"
   ]
  },
  {
   "cell_type": "code",
   "execution_count": 58,
   "metadata": {},
   "outputs": [
    {
     "data": {
      "text/plain": [
       "[('Clothes', 100),\n",
       " ('Mobile Recharge', 699),\n",
       " ('Watch', 900),\n",
       " ('Shoes', 1000),\n",
       " ('Petrol', 1980)]"
      ]
     },
     "execution_count": 58,
     "metadata": {},
     "output_type": "execute_result"
    }
   ],
   "source": [
    "sort_dict(my_expenses)"
   ]
  },
  {
   "cell_type": "code",
   "execution_count": 59,
   "metadata": {},
   "outputs": [
    {
     "data": {
      "text/plain": [
       "[('Shoes', 650),\n",
       " ('Mobile recharge', 800),\n",
       " ('DTH recharge', 986),\n",
       " ('Clothes', 2500),\n",
       " ('Makeup', 3500)]"
      ]
     },
     "execution_count": 59,
     "metadata": {},
     "output_type": "execute_result"
    }
   ],
   "source": [
    "sort_dict(wife_expenses)"
   ]
  },
  {
   "cell_type": "code",
   "execution_count": 61,
   "metadata": {},
   "outputs": [
    {
     "name": "stdout",
     "output_type": "stream",
     "text": [
      "You spent more on ('Petrol', 1980)\n"
     ]
    }
   ],
   "source": [
    "print(f\"You spent more on {sort_dict(my_expenses)[-1]}\")"
   ]
  },
  {
   "cell_type": "code",
   "execution_count": 62,
   "metadata": {},
   "outputs": [
    {
     "name": "stdout",
     "output_type": "stream",
     "text": [
      "You wife spent more on ('Makeup', 3500)\n"
     ]
    }
   ],
   "source": [
    "print(f\"You wife spent more on {sort_dict(wife_expenses)[-1]}\")"
   ]
  }
 ],
 "metadata": {
  "kernelspec": {
   "display_name": "Python 3",
   "language": "python",
   "name": "python3"
  },
  "language_info": {
   "codemirror_mode": {
    "name": "ipython",
    "version": 3
   },
   "file_extension": ".py",
   "mimetype": "text/x-python",
   "name": "python",
   "nbconvert_exporter": "python",
   "pygments_lexer": "ipython3",
   "version": "3.9.0"
  }
 },
 "nbformat": 4,
 "nbformat_minor": 2
}
