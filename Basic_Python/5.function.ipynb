{
 "cells": [
  {
   "cell_type": "markdown",
   "metadata": {},
   "source": [
    "In Python, a ***function*** is a reusable block of code that performs a specific task or set of tasks.\\\n",
    "Functions help in organizing code, making it more modular, readable, and maintainable.\\\n",
    "They allow you to define a block of code with a specific name, parameters, and an optional return value."
   ]
  },
  {
   "cell_type": "code",
   "execution_count": 1,
   "metadata": {},
   "outputs": [
    {
     "name": "stdout",
     "output_type": "stream",
     "text": [
      "Sum:  30\n"
     ]
    }
   ],
   "source": [
    "# Example of Functions\n",
    "def add_numbers(a, b):\n",
    "    result = a + b\n",
    "    return result\n",
    "# Call the function\n",
    "sum_result = add_numbers(10,20)\n",
    "print(\"Sum: \", sum_result)"
   ]
  },
  {
   "cell_type": "code",
   "execution_count": 4,
   "metadata": {},
   "outputs": [],
   "source": [
    "# Function example\n",
    "def find_total(expenses):\n",
    "    '''\n",
    "    This function takes expenses list as an input\n",
    "    and return a total sum of that list\n",
    "    :parm expenses:list of input expenses\n",
    "    :return: total expense\n",
    "    '''\n",
    "    total = 0\n",
    "    for expense in expenses:\n",
    "        total += expense\n",
    "    return total"
   ]
  },
  {
   "cell_type": "code",
   "execution_count": 5,
   "metadata": {},
   "outputs": [
    {
     "name": "stdout",
     "output_type": "stream",
     "text": [
      "Sergey's total expense:  270\n",
      "Sundar expenses:  458\n"
     ]
    }
   ],
   "source": [
    "# Calling the function for summing the result\n",
    "expenses_sergey = [30,40,50,60,90]\n",
    "expenses_sundar = [80,90,40,100,62,86]\n",
    "total = find_total(expenses_sergey)\n",
    "print(\"Sergey's total expense: \", total)\n",
    "total = find_total(expenses_sundar)\n",
    "print(\"Sundar expenses: \", total)"
   ]
  },
  {
   "cell_type": "code",
   "execution_count": 6,
   "metadata": {},
   "outputs": [
    {
     "name": "stdout",
     "output_type": "stream",
     "text": [
      "Help on function find_total in module __main__:\n",
      "\n",
      "find_total(expenses)\n",
      "    This function takes expenses list as an input\n",
      "    and return a total sum of that list\n",
      "    :parm expenses:list of input expenses\n",
      "    :return: total expense\n",
      "\n",
      "None\n"
     ]
    }
   ],
   "source": [
    "# this is example of document of function that helps people to understand the functions\n",
    "print(help(find_total))"
   ]
  },
  {
   "cell_type": "code",
   "execution_count": 14,
   "metadata": {},
   "outputs": [
    {
     "name": "stdout",
     "output_type": "stream",
     "text": [
      "radius 5\n",
      "height 10\n",
      "785.0\n",
      "785.0\n"
     ]
    }
   ],
   "source": [
    "# Find the cylinder volume\n",
    "def find_cylinder_volume(radius, height=7):\n",
    "    print(\"radius\", radius)\n",
    "    print(\"height\",height)\n",
    "    volume = 3.14*(radius**2)*height\n",
    "    print(volume)\n",
    "    return volume\n",
    "\n",
    "r = 5\n",
    "h = 10\n",
    "print(find_cylinder_volume(radius=r, height=10))"
   ]
  },
  {
   "cell_type": "code",
   "execution_count": 55,
   "metadata": {},
   "outputs": [
    {
     "name": "stdout",
     "output_type": "stream",
     "text": [
      "False\n",
      "False\n",
      "False\n",
      "10 False\n",
      "11 True\n",
      "12 False\n",
      "13 True\n",
      "14 False\n",
      "15 False\n",
      "16 False\n",
      "17 True\n",
      "18 False\n",
      "19 True\n",
      "20 False\n"
     ]
    }
   ],
   "source": [
    "# Write a python function to check if any given number is a prime number and odd number?\n",
    "def prime_and_odd(number):\n",
    "    # checking for even number\n",
    "    if number % 2 == 0:\n",
    "        return False\n",
    "    if number < 2:\n",
    "        return False\n",
    "    # checking for the primre number\n",
    "    for i in range(2, number//2):\n",
    "        if number % i == 0:\n",
    "            return False\n",
    "        \n",
    "    return True\n",
    "\n",
    "# Calling the function\n",
    "print(prime_and_odd(1))\n",
    "print(prime_and_odd(2))\n",
    "print(prime_and_odd(45))\n",
    "\n",
    "# Checking 10 numbers from 10 20\n",
    "for i in range(10, 21):\n",
    "    print(i, prime_and_odd(i))\n"
   ]
  },
  {
   "cell_type": "code",
   "execution_count": 72,
   "metadata": {},
   "outputs": [
    {
     "name": "stdout",
     "output_type": "stream",
     "text": [
      "*\n",
      "**\n",
      "***\n",
      "****\n",
      "*****\n"
     ]
    }
   ],
   "source": [
    "# Write a python function that will take n as input and print the pattern of n rows. If the n is even, then print it flipped.\n",
    "def pattern(number):\n",
    "    for number in range(number):\n",
    "        print((number + 1) * \"*\")\n",
    "\n",
    "# calling the function\n",
    "pattern(5)"
   ]
  },
  {
   "cell_type": "code",
   "execution_count": 67,
   "metadata": {},
   "outputs": [],
   "source": [
    "# Write a python function that will take n as input and print the pattern of n rows. If the n is even, then print it flipped.\n",
    "# Creating function for checking even / odd number \n",
    "def is_even(num):\n",
    "    if num % 2 == 0:\n",
    "        return True\n",
    "    else:\n",
    "        return False"
   ]
  },
  {
   "cell_type": "code",
   "execution_count": 68,
   "metadata": {},
   "outputs": [],
   "source": [
    "# Creating function for petterns\n",
    "def print_pattern(n):\n",
    "    if is_even(n):\n",
    "\n",
    "        for i in range(n, 0, -1):\n",
    "            for j in range(i):\n",
    "                print(\"*\", end=\"\")\n",
    "            print()\n",
    "\n",
    "    else:\n",
    "        for i in range(n + 1):\n",
    "            for j in range(i):\n",
    "                print(\"*\", end=\"\")\n",
    "            print()\n"
   ]
  },
  {
   "cell_type": "code",
   "execution_count": 73,
   "metadata": {},
   "outputs": [
    {
     "name": "stdout",
     "output_type": "stream",
     "text": [
      "\n",
      "*\n",
      "**\n",
      "***\n"
     ]
    }
   ],
   "source": [
    "# Calling function \n",
    "print_pattern(3)"
   ]
  },
  {
   "cell_type": "code",
   "execution_count": 74,
   "metadata": {},
   "outputs": [
    {
     "name": "stdout",
     "output_type": "stream",
     "text": [
      "**********\n",
      "*********\n",
      "********\n",
      "*******\n",
      "******\n",
      "*****\n",
      "****\n",
      "***\n",
      "**\n",
      "*\n"
     ]
    }
   ],
   "source": [
    "print_pattern(10)"
   ]
  },
  {
   "cell_type": "markdown",
   "metadata": {},
   "source": [
    "#### 3. Master Yoda speaks a sentence in a different order. Let's say you want to convert a sentence to Yoda’s speak.Write a function named master_yoda which will take a string as input and return the output after reversing the words of the sentence."
   ]
  },
  {
   "cell_type": "code",
   "execution_count": 75,
   "metadata": {},
   "outputs": [],
   "source": [
    "def master_yoda(sentance):\n",
    "    # Creating list of words\n",
    "    words = []\n",
    "    for word in sentance.split(' '):\n",
    "        words.append(word)\n",
    "\n",
    "    terminator = \"\"\n",
    "    # If the sentance ends with a dot(.) we need to extract that\n",
    "    if words[-1].endswith('.') or words[-1].endswith('?'):\n",
    "        terminator = words[-1][-1]\n",
    "        words[-1] = words[-1][:-1]\n",
    "    # Reversing the words\n",
    "    words.reverse()\n",
    "\n",
    "    # Recreating the sentences with reversed words\n",
    "    new_sentance = \" \".join(words)\n",
    "    new_sentance = new_sentance + terminator\n",
    "    return new_sentance"
   ]
  },
  {
   "cell_type": "code",
   "execution_count": 77,
   "metadata": {},
   "outputs": [
    {
     "name": "stdout",
     "output_type": "stream",
     "text": [
      "Science Data in boss be will I.\n",
      "scientist data for awasome alwayse is Python Python. love I.\n"
     ]
    }
   ],
   "source": [
    "# Calling function master_yoda\n",
    "print(master_yoda(\"I will be boss in Data Science.\"))\n",
    "print(master_yoda(\"I love Python. Python is alwayse awasome for data scientist.\"))"
   ]
  },
  {
   "cell_type": "markdown",
   "metadata": {},
   "source": [
    "##### 4. Write a function pay_bill which will take list of expenses, percent commission, and a special offer amount\n",
    "* If you don’t pass percent_comission it should be always 9.8%\n",
    "* The Last argument special_offer_amount is not a required argument, you don’t need to pass is. Make it an optional parameter.\n",
    "* If you want to give a special offer to the user, then you have to pass the third argument special_offer_amount. If user makes the purchase of greater than special_offer_amount, then    give him extra  commission of 1.2%.\n",
    "* Calculate the final payable price of the bill and return it from the function."
   ]
  },
  {
   "cell_type": "code",
   "execution_count": 79,
   "metadata": {},
   "outputs": [],
   "source": [
    "def pay_bill(expenses, percent_comission=0.098, offer_amount= None):\n",
    "    # calculating the total bill amount\n",
    "    total_bill_amount = 0\n",
    "    for amount in expenses:\n",
    "        total_bill_amount += amount\n",
    "    # calculating extra commision percentage\n",
    "    extra_comission = 0\n",
    "    if offer_amount:\n",
    "        if total_bill_amount >= offer_amount:\n",
    "            extra_comission = 0.012\n",
    "            print(f\"Congratulations! you earned 1.2% extra commision.\")\n",
    "    # Calculating final payable amount\n",
    "    commision_amount = total_bill_amount * (percent_comission + extra_comission)\n",
    "    final_amount = total_bill_amount - commision_amount\n",
    "    return final_amount"
   ]
  },
  {
   "cell_type": "code",
   "execution_count": 85,
   "metadata": {},
   "outputs": [
    {
     "name": "stdout",
     "output_type": "stream",
     "text": [
      "18772.424\n",
      "1043.704\n",
      "Congratulations! you earned 1.2% extra commision.\n",
      "1334.4279999999999\n",
      "Congratulations! you earned 1.2% extra commision.\n",
      "1322.54\n"
     ]
    }
   ],
   "source": [
    "# calling function\n",
    "print(pay_bill([100,145,567,20000]))\n",
    "print(pay_bill([100, 145, 565, 322], 0.078))\n",
    "print(pay_bill([200, 400, 86, 300, 500], 0.09, 800))\n",
    "print(pay_bill([200, 400, 86, 300, 500], offer_amount=900))"
   ]
  },
  {
   "cell_type": "markdown",
   "metadata": {},
   "source": [
    "***Function Example**"
   ]
  },
  {
   "cell_type": "code",
   "execution_count": 25,
   "metadata": {},
   "outputs": [
    {
     "name": "stdout",
     "output_type": "stream",
     "text": [
      "Sushanta Dhar Love Python.\n",
      "Python is everything for him.\n",
      "Mousumi Dhar Love Python.\n",
      "Python is everything for him.\n"
     ]
    }
   ],
   "source": [
    "# Write a greeting function\n",
    "def greet(first_name, last_name):\n",
    "    print(f\"{first_name} {last_name} Love Python.\")\n",
    "    print(\"Python is everything for him.\")\n",
    "\n",
    "greet('Sushanta', 'Dhar')\n",
    "greet(\"Mousumi\",\"Dhar\")"
   ]
  },
  {
   "cell_type": "code",
   "execution_count": 26,
   "metadata": {},
   "outputs": [
    {
     "name": "stdout",
     "output_type": "stream",
     "text": [
      "6\n"
     ]
    }
   ],
   "source": [
    "# Increment function\n",
    "def increment(number, by):\n",
    "    return number + by\n",
    "\n",
    "result = increment(5,1)\n",
    "print(result)"
   ]
  },
  {
   "cell_type": "code",
   "execution_count": 27,
   "metadata": {},
   "outputs": [
    {
     "name": "stdout",
     "output_type": "stream",
     "text": [
      "12\n"
     ]
    }
   ],
   "source": [
    "print(increment(10,2))"
   ]
  },
  {
   "cell_type": "code",
   "execution_count": 35,
   "metadata": {},
   "outputs": [
    {
     "name": "stdout",
     "output_type": "stream",
     "text": [
      "180\n"
     ]
    }
   ],
   "source": [
    "# This function will multiply all input numbers\n",
    "def multiply(*numbers):\n",
    "    total = 1\n",
    "    for number in numbers:\n",
    "      total = total * number\n",
    "    return total\n",
    "\n",
    "print(multiply(2,3,5,6))"
   ]
  },
  {
   "cell_type": "code",
   "execution_count": 41,
   "metadata": {},
   "outputs": [
    {
     "name": "stdout",
     "output_type": "stream",
     "text": [
      "36\n"
     ]
    }
   ],
   "source": [
    "# function for key pair dictionary to save user doc\n",
    "def save_user(**user):\n",
    "    print(user[\"age\"])\n",
    "\n",
    "save_user(id=1,name=\"Sushanta\", age = 36)"
   ]
  },
  {
   "cell_type": "code",
   "execution_count": 52,
   "metadata": {},
   "outputs": [
    {
     "name": "stdout",
     "output_type": "stream",
     "text": [
      "7\n"
     ]
    }
   ],
   "source": [
    "# This is FizzBuzz to see the number is it fizz/Buzz/FizzBuzz\n",
    "def fizz_buzz(number):\n",
    "    if number % 3 == 0 and number % 5 == 0:\n",
    "        result = \"FizzBuzz\"\n",
    "    elif number % 3 == 0:\n",
    "        result = \"Fizz\"\n",
    "    elif number % 5 == 0:\n",
    "        result = \"Buzz\"\n",
    "    else:\n",
    "        result = str(number)\n",
    "    return result\n",
    "\n",
    "\n",
    "user_input = int(input(\"Enter a number: \"))\n",
    "print(fizz_buzz(user_input))"
   ]
  },
  {
   "cell_type": "code",
   "execution_count": 50,
   "metadata": {},
   "outputs": [
    {
     "name": "stdout",
     "output_type": "stream",
     "text": [
      "Fizz\n"
     ]
    }
   ],
   "source": [
    "def fizz_buzz(input):\n",
    "    if input % 3 == 0:\n",
    "        return \"Fizz\"\n",
    "    else:\n",
    "        return \"Buzz\"\n",
    "    \n",
    "print(fizz_buzz(15))"
   ]
  }
 ],
 "metadata": {
  "kernelspec": {
   "display_name": "Python 3",
   "language": "python",
   "name": "python3"
  },
  "language_info": {
   "codemirror_mode": {
    "name": "ipython",
    "version": 3
   },
   "file_extension": ".py",
   "mimetype": "text/x-python",
   "name": "python",
   "nbconvert_exporter": "python",
   "pygments_lexer": "ipython3",
   "version": "3.9.0"
  }
 },
 "nbformat": 4,
 "nbformat_minor": 2
}
