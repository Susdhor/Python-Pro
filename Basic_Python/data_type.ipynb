{
 "cells": [
  {
   "cell_type": "markdown",
   "metadata": {},
   "source": [
    "Data types:\n",
    "Data types represent the type or category of data that a variable can hold. \n",
    "Python has several built-in data types that are commonly used in programming."
   ]
  },
  {
   "cell_type": "markdown",
   "metadata": {},
   "source": [
    "Numeric Types:\\\n",
    "int: Integer type for whole numbers.Integer type represents whole numbers without a fractional part. ex: x = 5, y = .10\n",
    "<br>\n",
    "float: Floating-point type represents numbers with a decimal point or in exponential form. ex: a = 3.14, b = 2.5e-3\n",
    "<br>\n",
    "complex: Complex type for numbers with a real and an imaginary part. ex: z = 2 + 3j\n",
    "<br>\n",
    "<br>\n",
    "Sequence Types:\n",
    "<br>\n",
    "str: String type represents a sequence of characters, enclosed in single or double quotes. ex: name = \"Sushanta\"\n",
    "<br>\n",
    "list: List type represents an ordered, mutable sequence of elements. ex: numbers = [1, 2, 3, 4, 5]\n",
    "<br>\n",
    "tuple: Tuple type represents an ordered, immutable sequence of elements. ex: coordinates = (3, 4)\n",
    "<br>\n",
    "<br>\n",
    "Boolean Type:\n",
    "<br>\n",
    "bool: Boolean type represents the truth values True or False. ex: is_valid = True\n",
    "<br>\n",
    "Set Types:\n",
    "<br>\n",
    "set:  Set type represents an unordered collection of unique elements. ex: fruits_set = {\"apple\", \"orange\", \"banana\"}\n",
    "<br>\n",
    "frozenset: Frozenset type is an immutable version of a set. ex: frozen_set = frozenset([1, 2, 3])\n",
    "<br>\n",
    "<br>\n",
    "Mapping Type:\n",
    "<br>\n",
    "dict: Dictionary type represents a collection of key-value pairs. ex: person = {\"name\": \"Alice\", \"age\": 30, \"city\": \"New York\"}\n",
    "<br>\n",
    "None Type:\n",
    "<br>\n",
    "NoneType (None):  Represents the absence of a value or a null value.\n",
    "<br>\n",
    "<br>\n",
    "<br>\n",
    "These are the primary built-in data types in Python. \n",
    "<br>\n",
    "Each data type serves a specific purpose and allows you to represent and manipulate different kinds of data. Additionally, \n",
    "<br>\n",
    "Python supports user-defined classes, allowing you to create custom data types."
   ]
  },
  {
   "cell_type": "code",
   "execution_count": 1,
   "metadata": {},
   "outputs": [
    {
     "name": "stdout",
     "output_type": "stream",
     "text": [
      "Complex Number 1: (3+4j)\n",
      "Complex Number 2: (1.5-2.5j)\n",
      "Sum: (4.5+1.5j)\n",
      "Difference: (1.5+6.5j)\n",
      "Product: (14.5-1.5j)\n",
      "Quotient: (-0.6470588235294118+1.5882352941176472j)\n"
     ]
    }
   ],
   "source": [
    "# Creating complex numbers\n",
    "complex_number_1 = 3 + 4j\n",
    "complex_number_2 = 1.5 - 2.5j\n",
    "\n",
    "# Performing operations with complex numbers\n",
    "sum_result = complex_number_1 + complex_number_2\n",
    "difference_result = complex_number_1 - complex_number_2\n",
    "product_result = complex_number_1 * complex_number_2\n",
    "quotient_result = complex_number_1 / complex_number_2\n",
    "\n",
    "# Displaying results\n",
    "print(\"Complex Number 1:\", complex_number_1)\n",
    "print(\"Complex Number 2:\", complex_number_2)\n",
    "print(\"Sum:\", sum_result)\n",
    "print(\"Difference:\", difference_result)\n",
    "print(\"Product:\", product_result)\n",
    "print(\"Quotient:\", quotient_result)\n"
   ]
  },
  {
   "cell_type": "code",
   "execution_count": 4,
   "metadata": {},
   "outputs": [
    {
     "data": {
      "text/plain": [
       "35.0"
      ]
     },
     "execution_count": 4,
     "metadata": {},
     "output_type": "execute_result"
    }
   ],
   "source": [
    "base = 10\n",
    "height = 7\n",
    "area = (1/2) * base *height\n",
    "area"
   ]
  },
  {
   "cell_type": "code",
   "execution_count": 2,
   "metadata": {},
   "outputs": [
    {
     "name": "stdout",
     "output_type": "stream",
     "text": [
      "The area of the triangle with base 10.0 and height 5.0 is : 25.0 \n"
     ]
    }
   ],
   "source": [
    "# For calculating the area of triangle formula is: Area = 1/2 * base * height\n",
    "def calculate_triangle_area(base, height):\n",
    "    area = 0.5 * base * height\n",
    "    return area\n",
    "# input the base and height from users\n",
    "base = float(input(\"Enter the base of the triangle: \"))\n",
    "height = float(input(\"Enter the height of the triangle: \"))\n",
    "# Calculate and display the Area\n",
    "triangle_area = calculate_triangle_area(base, height)\n",
    "print(f\"The area of the triangle with base {base} and height {height} is : {triangle_area} \")"
   ]
  },
  {
   "cell_type": "markdown",
   "metadata": {},
   "source": [
    "**Floor division** is performed using the // operator. Floor division returns the largest integer that is less than or equal to the result of the division. "
   ]
  },
  {
   "cell_type": "code",
   "execution_count": 5,
   "metadata": {},
   "outputs": [
    {
     "name": "stdout",
     "output_type": "stream",
     "text": [
      "Result of floor division:  3\n"
     ]
    }
   ],
   "source": [
    "# Using variables for floor division\n",
    "numerator = 7\n",
    "denominator = 2\n",
    "result = numerator // denominator\n",
    "\n",
    "# Display the result\n",
    "print(\"Result of floor division: \", result)"
   ]
  },
  {
   "cell_type": "markdown",
   "metadata": {},
   "source": [
    "In Python, **scientific notation** using the e or E character to denote the exponent. \n",
    "Scientific notation is a way to represent very large or very small numbers in a concise form."
   ]
  },
  {
   "cell_type": "code",
   "execution_count": 7,
   "metadata": {},
   "outputs": [
    {
     "name": "stdout",
     "output_type": "stream",
     "text": [
      "Large Number: 314000.0\n",
      "Small Number: 6.02e-23\n"
     ]
    }
   ],
   "source": [
    "# Using scientific notation\n",
    "large_number = 3.14e5  # Equivalent to 3.14 * 10^5\n",
    "small_number = 6.02E-23  # Equivalent to 6.02 * 10^(-23)\n",
    "# Display the numbers\n",
    "print(\"Large Number:\", large_number)\n",
    "print(\"Small Number:\", small_number)"
   ]
  },
  {
   "cell_type": "code",
   "execution_count": 9,
   "metadata": {},
   "outputs": [
    {
     "name": "stdout",
     "output_type": "stream",
     "text": [
      "Result of modulo operation:  2\n"
     ]
    }
   ],
   "source": [
    "#In Python, the modulo operator is represented by the % symbol. It returns the remainder of the division of one number by another. \n",
    "# Using variables for modulo operation\n",
    "dividend = 17\n",
    "divisor = 5\n",
    "result = dividend % divisor\n",
    "# Display the result\n",
    "print(\"Result of modulo operation: \", result)"
   ]
  },
  {
   "cell_type": "code",
   "execution_count": 1,
   "metadata": {},
   "outputs": [
    {
     "name": "stdout",
     "output_type": "stream",
     "text": [
      "Result of exponentiation:  8\n"
     ]
    }
   ],
   "source": [
    "# The exponentiation operation is performed using the ** operator. This operator raises the left operand to the power of the right operand. \n",
    "# Example of exponentiation\n",
    "result = 2 ** 3  # Equivalent to 2^3\n",
    "# Display the result\n",
    "print(\"Result of exponentiation: \", result)"
   ]
  },
  {
   "cell_type": "code",
   "execution_count": 7,
   "metadata": {},
   "outputs": [
    {
     "data": {
      "text/plain": [
       "'221'"
      ]
     },
     "execution_count": 7,
     "metadata": {},
     "output_type": "execute_result"
    }
   ],
   "source": [
    "format(145, 'o')"
   ]
  },
  {
   "cell_type": "markdown",
   "metadata": {},
   "source": [
    "There is a circular pond in a village. This pond has a radius of 84 meters. Can you find the area of the pond?\n",
    "<br>\n",
    "(Bonus: If there is exactly 1.4 liter of water in a square meter, what is the total amount of water in the pond?)"
   ]
  },
  {
   "cell_type": "code",
   "execution_count": 9,
   "metadata": {},
   "outputs": [
    {
     "name": "stdout",
     "output_type": "stream",
     "text": [
      "Area of the pond:  22155.84 square meters\n"
     ]
    }
   ],
   "source": [
    "# Area = π * radius^2\n",
    "# calculate the area of the pond\n",
    "radius = 84\n",
    "π = 3.14\n",
    "area_pond = π * radius**2\n",
    "print(\"Area of the pond: \", area_pond, \"square meters\")"
   ]
  },
  {
   "cell_type": "code",
   "execution_count": 10,
   "metadata": {},
   "outputs": [
    {
     "name": "stdout",
     "output_type": "stream",
     "text": [
      "Total amount of water in the pond: 31018.176 liters\n"
     ]
    }
   ],
   "source": [
    "# Total Amount of water = Area of the pond * Water per square meter\n",
    "water_per_square_meter = 1.4 # in liters\n",
    "total_water = area_pond * water_per_square_meter\n",
    "print(\"Total amount of water in the pond:\", total_water, \"liters\")"
   ]
  },
  {
   "cell_type": "markdown",
   "metadata": {},
   "source": [
    "If you cross a 490-meter-long street in 7 minutes, then what is your speed in meters per second? Print your answer without any decimal point in it."
   ]
  },
  {
   "cell_type": "code",
   "execution_count": 12,
   "metadata": {},
   "outputs": [
    {
     "name": "stdout",
     "output_type": "stream",
     "text": [
      "Speed: 1 meters per second\n",
      "Speed: 1.1666666666666667 meters per second\n"
     ]
    }
   ],
   "source": [
    "# Speed = Distance / Time\n",
    "distance = 490 # in meters\n",
    "time_in_minutes = 7\n",
    "# convert time in seconds \n",
    "time_in_seconds = time_in_minutes * 60\n",
    "# calculating the speed in meters per seconds\n",
    "speed = distance / time_in_seconds\n",
    "# displaying the speed without any decimal point\n",
    "print(\"Speed:\", int(speed), \"meters per second\")\n",
    "print(\"Speed:\", speed, \"meters per second\")\n"
   ]
  },
  {
   "cell_type": "markdown",
   "metadata": {},
   "source": [
    "*** Strings***"
   ]
  },
  {
   "cell_type": "markdown",
   "metadata": {},
   "source": [
    "3. Create two variables to store how many fruits and vegetables you eat in a day. Now Print \"I eat x vegetables and y fruits daily\" where x and y presents vegetables and fruits that you eat every day. Use python f string for this."
   ]
  },
  {
   "cell_type": "code",
   "execution_count": 13,
   "metadata": {},
   "outputs": [
    {
     "name": "stdout",
     "output_type": "stream",
     "text": [
      "I eat potato & tomato vegatables and apple,banana fruits daily.\n"
     ]
    }
   ],
   "source": [
    "fruits = \"apple,banana\"\n",
    "vegatables = \"potato & tomato\"\n",
    "# printing using f-sring\n",
    "print(f\"I eat {vegatables} vegatables and {fruits} fruits daily.\")"
   ]
  },
  {
   "cell_type": "markdown",
   "metadata": {},
   "source": [
    "3. Create a variable and store the string “The Himalayas are one of the youngest mountain range on the planet.”\n",
    "\n",
    "    i. Print ‘The Himalayas’ using slice operator\\\n",
    "    ii. Print “mountain range” using negative index\\\n",
    "    iii. Print “The Himalayas on the planet” using slice as well as f-string"
   ]
  },
  {
   "cell_type": "code",
   "execution_count": 15,
   "metadata": {},
   "outputs": [
    {
     "data": {
      "text/plain": [
       "'The Himalayas are one of the youngest mountain range on the planet.'"
      ]
     },
     "execution_count": 15,
     "metadata": {},
     "output_type": "execute_result"
    }
   ],
   "source": [
    "string = \"The Himalayas are one of the youngest mountain range on the planet.\"\n",
    "string"
   ]
  },
  {
   "cell_type": "code",
   "execution_count": 16,
   "metadata": {},
   "outputs": [
    {
     "name": "stdout",
     "output_type": "stream",
     "text": [
      "The Himalayas\n",
      "mountain range\n",
      "The Himalayas on the planet.\n",
      "The Himalayas on the planet.\n"
     ]
    }
   ],
   "source": [
    "#printing the himalayas\n",
    "print(string[0:13])\n",
    "# printing mountain range\n",
    "print(string[-29:-15])\n",
    "# slicing and printing the himalayas on the planet.\n",
    "print(string[0:13] + string[-15:])\n",
    "# f string\n",
    "print(f\"{string[0:13]} {string[-14:]}\")"
   ]
  },
  {
   "cell_type": "markdown",
   "metadata": {},
   "source": [
    "*Correcting the Errors:*\n",
    "\n",
    "There are two errors in the sentence.\\\n",
    "instead of 9 there should be 8 in the sentence\\\n",
    "instead of `planet` it should be `planets` "
   ]
  },
  {
   "cell_type": "code",
   "execution_count": 31,
   "metadata": {},
   "outputs": [
    {
     "name": "stdout",
     "output_type": "stream",
     "text": [
      "There are 8 planet in the solar system\n"
     ]
    }
   ],
   "source": [
    "# replacing the 9 with 8\n",
    "string = string.replace('9', '8')\n",
    "print(string)"
   ]
  },
  {
   "cell_type": "code",
   "execution_count": 32,
   "metadata": {},
   "outputs": [
    {
     "name": "stdout",
     "output_type": "stream",
     "text": [
      "There are 8 planets in the solar system\n"
     ]
    }
   ],
   "source": [
    "# replacing planet with planets\n",
    "string = string.replace('planet', 'planets')\n",
    "print(string)"
   ]
  },
  {
   "cell_type": "code",
   "execution_count": 33,
   "metadata": {},
   "outputs": [
    {
     "name": "stdout",
     "output_type": "stream",
     "text": [
      "There are 8 planets in the solar system\n"
     ]
    }
   ],
   "source": [
    "# now replacing the 9 to 8\n",
    "string = string.replace('9 planet', '8 planets')\n",
    "print(string)"
   ]
  },
  {
   "cell_type": "markdown",
   "metadata": {},
   "source": [
    "***lists*** \\\n",
    "list is a versatile and mutable ordered collection of elements. Lists are defined by square brackets [ ] and can contain elements of different data types."
   ]
  },
  {
   "cell_type": "code",
   "execution_count": 67,
   "metadata": {},
   "outputs": [
    {
     "name": "stdout",
     "output_type": "stream",
     "text": [
      "['bread', 'pasta', 'fruits', 'vegitables', 'milk']\n",
      "['fruits', 'vegitables']\n"
     ]
    }
   ],
   "source": [
    "items = ['bread','pasta','fruits','vegitables','milk']\n",
    "print(items)\n",
    "print(items[2:4])"
   ]
  },
  {
   "cell_type": "code",
   "execution_count": 40,
   "metadata": {},
   "outputs": [
    {
     "data": {
      "text/plain": [
       "['bread', 'butter', 'pasta', 'fruits', 'vegitables', 'milk']"
      ]
     },
     "execution_count": 40,
     "metadata": {},
     "output_type": "execute_result"
    }
   ],
   "source": [
    "items.insert(1,'butter')\n",
    "items"
   ]
  },
  {
   "cell_type": "code",
   "execution_count": 68,
   "metadata": {},
   "outputs": [
    {
     "data": {
      "text/plain": [
       "['bread', 'fruits', 'vegitables', 'milk']"
      ]
     },
     "execution_count": 68,
     "metadata": {},
     "output_type": "execute_result"
    }
   ],
   "source": [
    "items.remove('pasta')\n",
    "items"
   ]
  },
  {
   "cell_type": "code",
   "execution_count": 71,
   "metadata": {},
   "outputs": [
    {
     "name": "stdout",
     "output_type": "stream",
     "text": [
      "[15, 80, 300, 30, 10, 40, 100]\n"
     ]
    }
   ],
   "source": [
    "expenses = [15,80,300,30,10,40,100]\n",
    "print(expenses)"
   ]
  },
  {
   "cell_type": "code",
   "execution_count": 73,
   "metadata": {},
   "outputs": [
    {
     "data": {
      "text/plain": [
       "[10, 15, 30, 40, 80, 100, 300]"
      ]
     },
     "execution_count": 73,
     "metadata": {},
     "output_type": "execute_result"
    }
   ],
   "source": [
    "expenses.sort()\n",
    "expenses"
   ]
  },
  {
   "cell_type": "code",
   "execution_count": 60,
   "metadata": {},
   "outputs": [
    {
     "data": {
      "text/plain": [
       "['car', 4.7, True]"
      ]
     },
     "execution_count": 60,
     "metadata": {},
     "output_type": "execute_result"
    }
   ],
   "source": [
    "random = [\"car\", 4.7, True]\n",
    "random"
   ]
  },
  {
   "cell_type": "code",
   "execution_count": 61,
   "metadata": {},
   "outputs": [
    {
     "data": {
      "text/plain": [
       "[True, 4.7, 'car']"
      ]
     },
     "execution_count": 61,
     "metadata": {},
     "output_type": "execute_result"
    }
   ],
   "source": [
    "random.reverse()\n",
    "random"
   ]
  },
  {
   "cell_type": "code",
   "execution_count": 75,
   "metadata": {},
   "outputs": [],
   "source": [
    "avengers = [\"Iron Man\", \"Captain America\", \"Black Widow\", \"Hulk\", \"Thor\", \"Hawkeye\"]"
   ]
  },
  {
   "cell_type": "code",
   "execution_count": 79,
   "metadata": {},
   "outputs": [
    {
     "name": "stdout",
     "output_type": "stream",
     "text": [
      "Number of the members in the Avengers team:  6\n"
     ]
    }
   ],
   "source": [
    "# calculate how many members are in the Avenger team?\n",
    "members = len(avengers)\n",
    "print(\"Number of the members in the Avengers team: \",members)"
   ]
  },
  {
   "cell_type": "code",
   "execution_count": 92,
   "metadata": {},
   "outputs": [
    {
     "name": "stdout",
     "output_type": "stream",
     "text": [
      "Updated Avengers team:  ['Captain America', 'Spider-Man', 'Iron Man', 'Spider-Man', 'Black Widow', 'Hulk', 'Thor', 'Hawkeye']\n"
     ]
    }
   ],
   "source": [
    "# Iron Man made Spider-Man a new member of the Avengers, add him to your list.\n",
    "avengers.insert(1,\"Spider-Man\")\n",
    "print(\"Updated Avengers team: \", avengers)"
   ]
  },
  {
   "cell_type": "code",
   "execution_count": 93,
   "metadata": {},
   "outputs": [],
   "source": [
    "avengers.remove(\"Captain America\")"
   ]
  },
  {
   "cell_type": "code",
   "execution_count": 94,
   "metadata": {},
   "outputs": [
    {
     "name": "stdout",
     "output_type": "stream",
     "text": [
      "Updated Avengers team:  ['Captain America', 'Spider-Man', 'Iron Man', 'Spider-Man', 'Black Widow', 'Hulk', 'Thor', 'Hawkeye']\n"
     ]
    }
   ],
   "source": [
    "# Captain America is the leader of the Avengers, you need to add him before Iron Man, so remove him from the list and add him before Iron Man.\n",
    "avengers.insert(0,\"Captain America\")\n",
    "print(\"Updated Avengers team: \", avengers)"
   ]
  }
 ],
 "metadata": {
  "kernelspec": {
   "display_name": "Python 3",
   "language": "python",
   "name": "python3"
  },
  "language_info": {
   "codemirror_mode": {
    "name": "ipython",
    "version": 3
   },
   "file_extension": ".py",
   "mimetype": "text/x-python",
   "name": "python",
   "nbconvert_exporter": "python",
   "pygments_lexer": "ipython3",
   "version": "3.9.0"
  }
 },
 "nbformat": 4,
 "nbformat_minor": 2
}
