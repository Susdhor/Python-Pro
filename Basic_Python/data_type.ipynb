{
 "cells": [
  {
   "cell_type": "markdown",
   "metadata": {},
   "source": [
    "Data types:\n",
    "Data types represent the type or category of data that a variable can hold. \n",
    "Python has several built-in data types that are commonly used in programming."
   ]
  },
  {
   "cell_type": "markdown",
   "metadata": {},
   "source": [
    "Numeric Types:\n",
    "<br>\n",
    "int: Integer type for whole numbers.Integer type represents whole numbers without a fractional part. ex: x = 5, y = .10\n",
    "<br>\n",
    "float: Floating-point type represents numbers with a decimal point or in exponential form. ex: a = 3.14, b = 2.5e-3\n",
    "<br>\n",
    "complex: Complex type for numbers with a real and an imaginary part. ex: z = 2 + 3j\n",
    "<br>\n",
    "<br>\n",
    "Sequence Types:\n",
    "<br>\n",
    "str: String type represents a sequence of characters, enclosed in single or double quotes. ex: name = \"Sushanta\"\n",
    "<br>\n",
    "list: List type represents an ordered, mutable sequence of elements. ex: numbers = [1, 2, 3, 4, 5]\n",
    "<br>\n",
    "tuple: Tuple type represents an ordered, immutable sequence of elements. ex: coordinates = (3, 4)\n",
    "<br>\n",
    "<br>\n",
    "Boolean Type:\n",
    "<br>\n",
    "bool: Boolean type represents the truth values True or False. ex: is_valid = True\n",
    "<br>\n",
    "Set Types:\n",
    "<br>\n",
    "set:  Set type represents an unordered collection of unique elements. ex: fruits_set = {\"apple\", \"orange\", \"banana\"}\n",
    "<br>\n",
    "frozenset: Frozenset type is an immutable version of a set. ex: frozen_set = frozenset([1, 2, 3])\n",
    "<br>\n",
    "<br>\n",
    "Mapping Type:\n",
    "<br>\n",
    "dict: Dictionary type represents a collection of key-value pairs. ex: person = {\"name\": \"Alice\", \"age\": 30, \"city\": \"New York\"}\n",
    "<br>\n",
    "None Type:\n",
    "<br>\n",
    "NoneType (None):  Represents the absence of a value or a null value.\n",
    "<br>\n",
    "<br>\n",
    "<br>\n",
    "These are the primary built-in data types in Python. \n",
    "<br>\n",
    "Each data type serves a specific purpose and allows you to represent and manipulate different kinds of data. Additionally, \n",
    "<br>\n",
    "Python supports user-defined classes, allowing you to create custom data types."
   ]
  },
  {
   "cell_type": "code",
   "execution_count": null,
   "metadata": {},
   "outputs": [],
   "source": []
  }
 ],
 "metadata": {
  "kernelspec": {
   "display_name": "Python 3",
   "language": "python",
   "name": "python3"
  },
  "language_info": {
   "name": "python",
   "version": "3.9.0"
  }
 },
 "nbformat": 4,
 "nbformat_minor": 2
}
