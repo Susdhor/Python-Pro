{
 "cells": [
  {
   "cell_type": "markdown",
   "metadata": {},
   "source": [
    "A **for loop** in Python is used to iterate over a sequence (such as a list, tuple, string, or range) and execute a block of code for each element in that sequence."
   ]
  },
  {
   "cell_type": "code",
   "execution_count": null,
   "metadata": {},
   "outputs": [],
   "source": [
    "# Example \n",
    "for i in range(20):\n",
    "    print(f\"This is number:{i}\")"
   ]
  },
  {
   "cell_type": "code",
   "execution_count": 2,
   "metadata": {},
   "outputs": [
    {
     "name": "stdout",
     "output_type": "stream",
     "text": [
      "The sum of numbers from 1 to 5 is: 15\n"
     ]
    }
   ],
   "source": [
    "sum_of_numbers = 0\n",
    "for number in range(1, 6):\n",
    "    sum_of_numbers += number\n",
    "print(f\"The sum of numbers from 1 to 5 is: {sum_of_numbers}\")"
   ]
  },
  {
   "cell_type": "code",
   "execution_count": 3,
   "metadata": {},
   "outputs": [
    {
     "data": {
      "text/plain": [
       "[0, 1, 2, 3, 4]"
      ]
     },
     "execution_count": 3,
     "metadata": {},
     "output_type": "execute_result"
    }
   ],
   "source": [
    "list(range(5))"
   ]
  },
  {
   "cell_type": "code",
   "execution_count": 13,
   "metadata": {},
   "outputs": [
    {
     "name": "stdout",
     "output_type": "stream",
     "text": [
      "1\n",
      "100\n",
      "2\n",
      "200\n",
      "3\n",
      "8000\n",
      "4\n",
      "652\n",
      "5\n",
      "249\n",
      "6\n",
      "756\n",
      "7\n",
      "354\n",
      "8\n",
      "2158\n"
     ]
    }
   ],
   "source": [
    "# print with number with expences\n",
    "expenses = [100, 200,8000,652,249,756,354,2158]\n",
    "for i in range(len(expenses)):\n",
    "    print(i+1)\n",
    "    print(expenses[i])"
   ]
  },
  {
   "cell_type": "code",
   "execution_count": 8,
   "metadata": {},
   "outputs": [
    {
     "name": "stdout",
     "output_type": "stream",
     "text": [
      "31\n"
     ]
    }
   ],
   "source": [
    "expenses = [1, 2,8,6,2,7,3,2]\n",
    "total = 0\n",
    "for i in expenses:\n",
    "    total += i\n",
    "print(total)"
   ]
  },
  {
   "cell_type": "code",
   "execution_count": 15,
   "metadata": {},
   "outputs": [
    {
     "name": "stdout",
     "output_type": "stream",
     "text": [
      "Month 1, Expense: 100\n",
      "Month 2, Expense: 200\n",
      "Month 3, Expense: 8000\n",
      "Month 4, Expense: 652\n",
      "Month 5, Expense: 249\n",
      "Month 6, Expense: 756\n",
      "Month 7, Expense: 354\n",
      "Month 8, Expense: 2158\n",
      "Total expense: 12469\n"
     ]
    }
   ],
   "source": [
    "# this programe will print expenses and month and total expences\n",
    "expenses = [100, 200,8000,652,249,756,354,2158]\n",
    "total_expense = 0\n",
    "for i in range(len(expenses)):\n",
    "    expense = expenses[i]\n",
    "    print(f\"Month {i + 1}, Expense: {expense}\")\n",
    "    total_expense += expense\n",
    "\n",
    "print(\"Total expense:\", total_expense)"
   ]
  },
  {
   "cell_type": "code",
   "execution_count": 16,
   "metadata": {},
   "outputs": [
    {
     "name": "stdout",
     "output_type": "stream",
     "text": [
      "Month 1, Expense: 100\n",
      "Month 2, Expense: 200\n",
      "Month 3, Expense: 8000\n",
      "Month 4, Expense: 652\n",
      "Month 5, Expense: 249\n",
      "Month 6, Expense: 756\n",
      "Month 7, Expense: 354\n",
      "Month 8, Expense: 2158\n",
      "Total expense: 12469\n"
     ]
    }
   ],
   "source": [
    "# this programe will print expenses and month and total expences\n",
    "expenses = [100, 200,8000,652,249,756,354,2158]\n",
    "total_expense = 0\n",
    "for i, expense  in enumerate(expenses):\n",
    "    print(f\"Month {i + 1}, Expense: {expense}\")\n",
    "    total_expense += expense\n",
    "\n",
    "print(\"Total expense:\", total_expense)"
   ]
  },
  {
   "cell_type": "code",
   "execution_count": 21,
   "metadata": {},
   "outputs": [
    {
     "name": "stdout",
     "output_type": "stream",
     "text": [
      "Month 3 has expense > 2000\n"
     ]
    }
   ],
   "source": [
    "# which first month i have expences is more than 2000\n",
    "ex = [1200,1900,2100,1700,2300]\n",
    "for i, ex in enumerate(ex):\n",
    "    if ex > 2000:\n",
    "        print(f\"Month {i+1} has expense > 2000\")\n",
    "        break"
   ]
  },
  {
   "cell_type": "code",
   "execution_count": 20,
   "metadata": {},
   "outputs": [
    {
     "name": "stdout",
     "output_type": "stream",
     "text": [
      "Key is found at  sofa\n"
     ]
    }
   ],
   "source": [
    "# This will find the key location then brake the loop\n",
    "locations = ['sofa','garage','chair','table','closet']\n",
    "key_location = \"sofa\"\n",
    "for location in locations:\n",
    "    if location == key_location:\n",
    "        print(\"Key is found at \", location)\n",
    "        break\n",
    "    else:\n",
    "        print(\"Key is not found at \", {location})"
   ]
  },
  {
   "cell_type": "code",
   "execution_count": 24,
   "metadata": {},
   "outputs": [
    {
     "name": "stdout",
     "output_type": "stream",
     "text": [
      "1\n",
      "3\n",
      "5\n",
      "7\n",
      "9\n",
      "11\n"
     ]
    }
   ],
   "source": [
    "# print the even and odd numbers between 1 - 12\n",
    "for i in range(1,12):\n",
    "    if i % 2 == 1:\n",
    "        print(i)"
   ]
  },
  {
   "cell_type": "code",
   "execution_count": 26,
   "metadata": {},
   "outputs": [
    {
     "name": "stdout",
     "output_type": "stream",
     "text": [
      "1\n",
      "3\n",
      "5\n",
      "7\n",
      "9\n",
      "11\n"
     ]
    }
   ],
   "source": [
    "for i in range(1, 12):\n",
    "    if i % 2 == 0:\n",
    "        continue\n",
    "    print(i)"
   ]
  },
  {
   "cell_type": "code",
   "execution_count": 27,
   "metadata": {},
   "outputs": [
    {
     "name": "stdout",
     "output_type": "stream",
     "text": [
      "SkllBascs"
     ]
    }
   ],
   "source": [
    "for l in 'SkillBasics':\n",
    "    if l == 'i':\n",
    "        continue\n",
    "    print(l, end='')"
   ]
  },
  {
   "cell_type": "code",
   "execution_count": 29,
   "metadata": {},
   "outputs": [
    {
     "name": "stdout",
     "output_type": "stream",
     "text": [
      "2\n"
     ]
    }
   ],
   "source": [
    "count=0\n",
    "transactions = [(456, 'f'), (457, 'n'), (458, 'w'), (459, 'f')]\n",
    "for transaction in transactions:\n",
    "    if transaction[1]!='f':\n",
    "        count+=1\n",
    "print(count)"
   ]
  },
  {
   "cell_type": "code",
   "execution_count": 30,
   "metadata": {},
   "outputs": [
    {
     "name": "stdout",
     "output_type": "stream",
     "text": [
      "1, -1, -3, -5, "
     ]
    }
   ],
   "source": [
    "for n in range(1, -6, -2):\n",
    "    print(n, end=', ')"
   ]
  },
  {
   "cell_type": "code",
   "execution_count": 31,
   "metadata": {},
   "outputs": [
    {
     "name": "stdout",
     "output_type": "stream",
     "text": [
      "101\n"
     ]
    }
   ],
   "source": [
    "x = -1\n",
    "while x <=99:\n",
    "  x += 2\n",
    "print(x)"
   ]
  },
  {
   "cell_type": "code",
   "execution_count": 32,
   "metadata": {},
   "outputs": [
    {
     "name": "stdout",
     "output_type": "stream",
     "text": [
      "1 2 3 4 5 \n",
      "1 2 3 4 \n",
      "1 2 3 \n",
      "1 2 \n",
      "1 \n"
     ]
    }
   ],
   "source": [
    "# Piramid  of the number\n",
    "rows = 5\n",
    "for i in range(rows, 0, -1):\n",
    "    for j in range(1, i + 1):\n",
    "        print(j, end=\" \")\n",
    "    print()"
   ]
  },
  {
   "cell_type": "code",
   "execution_count": 33,
   "metadata": {},
   "outputs": [
    {
     "name": "stdout",
     "output_type": "stream",
     "text": [
      "sum of all even numbers:  110\n"
     ]
    }
   ],
   "source": [
    "# Write a Python program to find the sum of all the numbers except odd numbers between 1 and 20 using a loop. \n",
    "# using the for loop\n",
    "sum_numbers = 0\n",
    "for number in range(1,21):\n",
    "    if number % 2 == 0:\n",
    "        sum_numbers += number\n",
    "print(\"sum of all even numbers: \", sum_numbers)"
   ]
  },
  {
   "cell_type": "code",
   "execution_count": 36,
   "metadata": {},
   "outputs": [
    {
     "name": "stdout",
     "output_type": "stream",
     "text": [
      "110\n"
     ]
    }
   ],
   "source": [
    "# Another way \n",
    "sum_numbers = 0\n",
    "for number in range(1,21):\n",
    "    if number % 2 !=0:\n",
    "        continue\n",
    "    else:\n",
    "        sum_numbers += number\n",
    "print(sum_numbers)"
   ]
  },
  {
   "cell_type": "code",
   "execution_count": 37,
   "metadata": {},
   "outputs": [
    {
     "name": "stdout",
     "output_type": "stream",
     "text": [
      "110\n"
     ]
    }
   ],
   "source": [
    "# Using the while loop\n",
    "sum_numbers = 0\n",
    "number = 1\n",
    "while number <= 20:\n",
    "    if number % 2 == 0:\n",
    "        sum_numbers += number\n",
    "    number = number + 1\n",
    "print(sum_numbers)"
   ]
  },
  {
   "cell_type": "markdown",
   "metadata": {},
   "source": [
    "### 3. After throwing the dice several times, you got this result,\n",
    "\tdice_result  = [5,6,4,2,5,4,4,5,3,3,2,6,1,2,1,1,6,5]\n",
    "Using a for loop find out the followings:\n",
    "+ How many times you got 6s\n",
    "+ How many times you got 1s\n",
    "+ How many times you got 6s two times in row"
   ]
  },
  {
   "cell_type": "code",
   "execution_count": 34,
   "metadata": {},
   "outputs": [
    {
     "name": "stdout",
     "output_type": "stream",
     "text": [
      "Number of 6s: 3\n",
      "Number of 1s: 3\n",
      "Number of times 6s appeared two times in a row: 0\n"
     ]
    }
   ],
   "source": [
    "dice_result = [5, 6, 4, 2, 5, 4, 4, 5, 3, 3, 2, 6, 1, 2, 1, 1, 6, 5]\n",
    "\n",
    "# Count the occurrences of 6s and 1s\n",
    "count_six = 0\n",
    "count_one = 0\n",
    "count_six_two_in_a_row = 0\n",
    "\n",
    "for result in dice_result:\n",
    "    if result == 6:\n",
    "        count_six += 1\n",
    "        if dice_result.index(result) > 0 and dice_result[dice_result.index(result) - 1] == 6:\n",
    "            count_six_two_in_a_row += 1\n",
    "    elif result == 1:\n",
    "        count_one += 1\n",
    "\n",
    "# Print the results\n",
    "print(\"Number of 6s:\", count_six)\n",
    "print(\"Number of 1s:\", count_one)\n",
    "print(\"Number of times 6s appeared two times in a row:\", count_six_two_in_a_row)"
   ]
  },
  {
   "cell_type": "code",
   "execution_count": 38,
   "metadata": {},
   "outputs": [
    {
     "name": "stdout",
     "output_type": "stream",
     "text": [
      "Number of 6s:  3\n"
     ]
    }
   ],
   "source": [
    "# counting 6s\n",
    "dice_result = [5, 6, 4, 2, 5, 4, 4, 5, 3, 3, 2, 6, 1, 2, 1, 1, 6, 5]\n",
    "sixs = 0\n",
    "for n in dice_result:\n",
    "    if n == 6:\n",
    "        sixs += 1\n",
    "print(\"Number of 6s: \", sixs)"
   ]
  },
  {
   "cell_type": "code",
   "execution_count": 41,
   "metadata": {},
   "outputs": [
    {
     "name": "stdout",
     "output_type": "stream",
     "text": [
      "Number of 1s:  3\n"
     ]
    }
   ],
   "source": [
    "#Counting 1s\n",
    "dice_result = [5, 6, 4, 2, 5, 4, 4, 5, 3, 3, 2, 6, 1, 2, 1, 1, 6, 5]\n",
    "ones = 0\n",
    "for n in dice_result:\n",
    "    if n==1:\n",
    "        ones += 1\n",
    "print(\"Number of 1s: \", ones)"
   ]
  },
  {
   "cell_type": "code",
   "execution_count": 43,
   "metadata": {},
   "outputs": [
    {
     "name": "stdout",
     "output_type": "stream",
     "text": [
      "Number of two sixes appared in row:  1\n"
     ]
    }
   ],
   "source": [
    "# Counting 2 sixes in a row\n",
    "dice_result = [5, 6, 4, 2, 5, 4, 4, 5, 3, 3, 2, 6, 1, 2, 1, 1, 6, 5]\n",
    "two_sixes = 0\n",
    "l = len(dice_result)\n",
    "for i in range(l -1):\n",
    "    if dice_result[i] == 6 and dice_result[i+1] == 6:\n",
    "        two_sixes += 1\n",
    "print(\"Number of two sixes appared in row: \", two_sixes)"
   ]
  },
  {
   "cell_type": "markdown",
   "metadata": {},
   "source": [
    "4. Let's say you are doing push-ups and you have to complete 50 push-ups daily, write a program that,\\\n",
    "  i. Upon completing 10 push-ups in a go, asks you, “Are you tired?”\\\n",
    "  ii. If you reply “yes” or “y” then it should break and print “You did total     <total_pushups> push-ups.”\\\n",
    "  iii. For example: If you did only 30  push-ups and answered “yes” to your program. It will break the loop and print “You did total 30 push-ups”\\\n",
    "  iv. If you reply “no” or “n” then it should continue and display how many push-ups are remaining  now after that ask you again “Are you tired?”\\\n",
    "For Example: if you answered “no” then it should display that 20 push-ups are remaining and ask you again “Are you tired?”\\\n",
    "  v. If you complete all 50 push-ups, then it should print the “Congratulations! You made it” and stopped the program."
   ]
  },
  {
   "cell_type": "code",
   "execution_count": 49,
   "metadata": {},
   "outputs": [
    {
     "name": "stdout",
     "output_type": "stream",
     "text": [
      "Doing push up.\n",
      "Doing push up.\n",
      "Doing push up.\n",
      "Doing push up.\n",
      "Doing push up.\n",
      "Doing push up.\n",
      "Doing push up.\n",
      "Doing push up.\n",
      "Doing push up.\n",
      "Doing push up.\n",
      "40 push-ups are remaining Today.\n",
      "Doing push up.\n",
      "Doing push up.\n",
      "Doing push up.\n",
      "Doing push up.\n",
      "Doing push up.\n",
      "Doing push up.\n",
      "Doing push up.\n",
      "Doing push up.\n",
      "Doing push up.\n",
      "Doing push up.\n",
      "You did total 20 Push-ups today.\n"
     ]
    }
   ],
   "source": [
    "pushups = 0\n",
    "answer = \"\"\n",
    "while True:\n",
    "    print(\"Doing push up.\")\n",
    "    pushups += 1\n",
    "    if pushups == 50:\n",
    "        print(\"Congratulations! You made it.\")\n",
    "        break\n",
    "    elif pushups % 10 == 0:\n",
    "        answer = input(\"Are you tired? (yes/no)\")\n",
    "        if answer[0].lower() == \"y\":\n",
    "            break\n",
    "        else:\n",
    "            print(f\"{50-pushups} push-ups are remaining Today.\")\n",
    "\n",
    "print(f\"You did total {pushups} Push-ups today.\")"
   ]
  },
  {
   "cell_type": "code",
   "execution_count": 48,
   "metadata": {},
   "outputs": [
    {
     "name": "stdout",
     "output_type": "stream",
     "text": [
      "You did a total of 30 push-ups.\n"
     ]
    }
   ],
   "source": [
    "total_push_ups = 50\n",
    "push_ups_done = 0\n",
    "\n",
    "while push_ups_done < total_push_ups:\n",
    "    push_ups_done += 10  # Increment push-ups by 10 in each iteration\n",
    "\n",
    "    # Ask if tired after completing 10 push-ups\n",
    "    response = input(f\"Are you tired? (Remaining: {total_push_ups - push_ups_done} push-ups) [yes/no]: \").lower()\n",
    "\n",
    "    if response == \"yes\" or response == \"y\":\n",
    "        print(f\"You did a total of {push_ups_done} push-ups.\")\n",
    "        break\n",
    "    elif response == \"no\" or response == \"n\":\n",
    "        if push_ups_done == total_push_ups:\n",
    "            print(\"Congratulations! You made it.\")\n",
    "            break\n",
    "    else:\n",
    "        print(\"Invalid response. Please enter 'yes' or 'no'.\")"
   ]
  },
  {
   "cell_type": "markdown",
   "metadata": {},
   "source": [
    "Some example of ***For Loop***"
   ]
  },
  {
   "cell_type": "code",
   "execution_count": 53,
   "metadata": {},
   "outputs": [
    {
     "name": "stdout",
     "output_type": "stream",
     "text": [
      "SD 1 *\n",
      "SD 2 **\n",
      "SD 3 ***\n",
      "SD 4 ****\n",
      "SD 5 *****\n"
     ]
    }
   ],
   "source": [
    "for number in range(5):\n",
    "    print(\"SD\", number + 1, (number+1)* \"*\")"
   ]
  },
  {
   "cell_type": "code",
   "execution_count": 55,
   "metadata": {},
   "outputs": [
    {
     "name": "stdout",
     "output_type": "stream",
     "text": [
      "\n",
      "*\n",
      "**\n",
      "***\n",
      "****\n",
      "*****\n",
      "******\n",
      "*******\n",
      "********\n",
      "*********\n"
     ]
    }
   ],
   "source": [
    "for number in range(10):\n",
    "    print((number)* \"*\")"
   ]
  },
  {
   "cell_type": "code",
   "execution_count": 57,
   "metadata": {},
   "outputs": [
    {
     "name": "stdout",
     "output_type": "stream",
     "text": [
      "S 1 *\n",
      "S 4 ****\n",
      "S 7 *******\n",
      "S 10 **********\n",
      "S 13 *************\n",
      "S 16 ****************\n",
      "S 19 *******************\n"
     ]
    }
   ],
   "source": [
    "for number in range(1,20,3):\n",
    "    print(\"S\",number, number* \"*\")"
   ]
  },
  {
   "cell_type": "code",
   "execution_count": 59,
   "metadata": {},
   "outputs": [
    {
     "name": "stdout",
     "output_type": "stream",
     "text": [
      "Attempt\n",
      "Attempt\n",
      "Attempt\n",
      "Attemped 3 times and failed\n"
     ]
    }
   ],
   "source": [
    "# If Successful false \n",
    "successful = False\n",
    "for number in range(3):\n",
    "    print(\"Attempt\")\n",
    "    if successful:\n",
    "        print(\"Successful\")\n",
    "        break\n",
    "else:\n",
    "    print(\"Attemped 3 times and failed\")"
   ]
  },
  {
   "cell_type": "code",
   "execution_count": 60,
   "metadata": {},
   "outputs": [
    {
     "name": "stdout",
     "output_type": "stream",
     "text": [
      "Attempt\n",
      "successful\n"
     ]
    }
   ],
   "source": [
    "# If Successful True\n",
    "successful = True\n",
    "for number in range(3):\n",
    "    print(\"Attempt\")\n",
    "    if successful:\n",
    "        print(\"successful\")\n",
    "        break\n",
    "else:\n",
    "    print(\"Attemped 3 times and failed.\")"
   ]
  },
  {
   "cell_type": "code",
   "execution_count": 61,
   "metadata": {},
   "outputs": [
    {
     "name": "stdout",
     "output_type": "stream",
     "text": [
      "(0,0)\n",
      "(0,1)\n",
      "(0,2)\n",
      "(1,0)\n",
      "(1,1)\n",
      "(1,2)\n",
      "(2,0)\n",
      "(2,1)\n",
      "(2,2)\n",
      "(3,0)\n",
      "(3,1)\n",
      "(3,2)\n",
      "(4,0)\n",
      "(4,1)\n",
      "(4,2)\n"
     ]
    }
   ],
   "source": [
    "# Nested loop\n",
    "for x in range(5):\n",
    "    for y in range(3):\n",
    "        print(f\"({x},{y})\")"
   ]
  },
  {
   "cell_type": "code",
   "execution_count": 62,
   "metadata": {},
   "outputs": [
    {
     "name": "stdout",
     "output_type": "stream",
     "text": [
      "S\n",
      "u\n",
      "s\n",
      "h\n",
      "a\n",
      "n\n",
      "t\n",
      "a\n"
     ]
    }
   ],
   "source": [
    "for x in \"Sushanta\":\n",
    "    print(x)"
   ]
  },
  {
   "cell_type": "code",
   "execution_count": 66,
   "metadata": {},
   "outputs": [
    {
     "name": "stdout",
     "output_type": "stream",
     "text": [
      "2\n",
      "4\n",
      "6\n",
      "8\n",
      "We have 4 even number\n"
     ]
    }
   ],
   "source": [
    "count = 0\n",
    "for number in range(1,10):\n",
    "    if number % 2 == 0:\n",
    "        count += 1\n",
    "        print(number)\n",
    "print(f\"We have {count} even number\")"
   ]
  }
 ],
 "metadata": {
  "kernelspec": {
   "display_name": "Python 3",
   "language": "python",
   "name": "python3"
  },
  "language_info": {
   "codemirror_mode": {
    "name": "ipython",
    "version": 3
   },
   "file_extension": ".py",
   "mimetype": "text/x-python",
   "name": "python",
   "nbconvert_exporter": "python",
   "pygments_lexer": "ipython3",
   "version": "3.9.0"
  }
 },
 "nbformat": 4,
 "nbformat_minor": 2
}
