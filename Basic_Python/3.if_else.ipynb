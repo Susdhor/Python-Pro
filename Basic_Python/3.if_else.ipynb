{
 "cells": [
  {
   "cell_type": "markdown",
   "metadata": {},
   "source": [
    " ***if-else*** statement to control the flow of program based on a condition.\\\n",
    " if-else statement is a control flow structure that allows you to make decisions based on conditions.\\\n",
    " condition: This is an expression that evaluates to either True or False. If the condition is True, \\\n",
    " the code inside the if block is executed; otherwise, the code inside the else block is executed.\\\n",
    "if block: This contains the code that is executed if the condition is True.\\\n",
    "else block: This contains the code that is executed if the condition is False."
   ]
  },
  {
   "cell_type": "code",
   "execution_count": 3,
   "metadata": {},
   "outputs": [
    {
     "name": "stdout",
     "output_type": "stream",
     "text": [
      "The number is zero.\n"
     ]
    }
   ],
   "source": [
    "# Example is checking the number is positive or negative\n",
    "number = int(input(\"Enter a number: \"))\n",
    "if number > 0:\n",
    "    print(\"The number is positive.\")\n",
    "elif number == 0:\n",
    "    print(\"The number is zero.\")\n",
    "else:\n",
    "    print(\"The number is negative.\")"
   ]
  },
  {
   "cell_type": "code",
   "execution_count": 5,
   "metadata": {},
   "outputs": [
    {
     "name": "stdout",
     "output_type": "stream",
     "text": [
      "Invalid username or password.\n"
     ]
    }
   ],
   "source": [
    "# Example of username and password login:\n",
    "username = input(\"Enter your username: \")\n",
    "password = input(\"Enter your password: \")\n",
    "if username == \"sushanta\" and password == \"mou\":\n",
    "    print(\"Login successful.\")\n",
    "else:\n",
    "    print(\"Invalid username or password.\")"
   ]
  },
  {
   "cell_type": "code",
   "execution_count": 16,
   "metadata": {},
   "outputs": [
    {
     "name": "stdout",
     "output_type": "stream",
     "text": [
      "The Number is even.\n"
     ]
    }
   ],
   "source": [
    "# Find out even or odd number using if else condition...\n",
    "n = input(\"Enter a number: \")\n",
    "n = int(n)\n",
    "if n % 2 == 0:\n",
    "    print(\"The Number is even.\")\n",
    "else:\n",
    "    print(\"The number is odd.\")\n"
   ]
  },
  {
   "cell_type": "code",
   "execution_count": 32,
   "metadata": {},
   "outputs": [
    {
     "name": "stdout",
     "output_type": "stream",
     "text": [
      "number is odd\n"
     ]
    }
   ],
   "source": [
    "# Ternary operator..\n",
    "# Find out even or odd number using if else condition...\n",
    "n = input(\"Enter a number: \")\n",
    "n = int(n)\n",
    "\n",
    "message = \"Number is even\" if n % 2 == 0 else \"number is odd\"\n",
    "print(message)"
   ]
  },
  {
   "cell_type": "code",
   "execution_count": 3,
   "metadata": {},
   "outputs": [
    {
     "name": "stdout",
     "output_type": "stream",
     "text": [
      "This is unknown Dish\n"
     ]
    }
   ],
   "source": [
    "# This if else function will tell you where this dish is from..\n",
    "indian = [ \"Biryani\", \"Butter Chicken\", \"Paneer Tikka\", \"Masala Dosa\",\"Chicken Tikka Masala\", \"Rogan Josh\", \"Chole Bhature\", \"Aloo Gobi\", \"Tandoori Chicken\", \"Palak Paneer\",\"Dal Makhani\",\n",
    "                  \"Pani Puri\",\"Samosa\",\"Aloo Paratha\",\"Chickn Curry\",\"Rajma\",\"Chaat\",\"Dhokla\", \"Jalebi\",\"Malai Kofta\"]\n",
    "chinese = [\"Egg Role\",\"Pot Sticker\",\"Fried Rice\"]\n",
    "italian = [\"Pizza\",\"Pasta\",\"Risotto\"]\n",
    "\n",
    "dish = input(\"Enter a dish name: \")\n",
    "\n",
    "if dish in indian:\n",
    "    print(f\"This {dish} is Indian.\")\n",
    "elif dish in chinese:\n",
    "    print(f\"This {dish} is Chinese.\")\n",
    "elif dish in italian:\n",
    "    print(f\"This {dish} is Italian.\")\n",
    "else:\n",
    "    print(\"This is unknown Dish\")\n",
    "\n"
   ]
  },
  {
   "cell_type": "code",
   "execution_count": 17,
   "metadata": {},
   "outputs": [
    {
     "name": "stdout",
     "output_type": "stream",
     "text": [
      "Underweight\n"
     ]
    }
   ],
   "source": [
    "# This function will tell you your BMI category depending on height and weight input--\n",
    "# Get user input for height and weight\n",
    "height = float(input(\"Enter height in meters: \"))\n",
    "weight = float(input(\"Enter weight in kilograms: \"))\n",
    "\n",
    "# Calculate BMI\n",
    "bmi = weight / (height ** 2)\n",
    "\n",
    "# Categorize BMI\n",
    "if bmi > 30:\n",
    "    print('Obesity')\n",
    "\n",
    "elif bmi > 25 and bmi < 29:\n",
    "    print('Overwieght')\n",
    "\n",
    "elif bmi > 18.5 and bmi < 25:\n",
    "    print('Normal')\n",
    "\n",
    "elif bmi < 18.5:\n",
    "    print('Underweight') \n"
   ]
  },
  {
   "cell_type": "code",
   "execution_count": 15,
   "metadata": {},
   "outputs": [
    {
     "name": "stdout",
     "output_type": "stream",
     "text": [
      "The city New York is in USA\n"
     ]
    }
   ],
   "source": [
    "# This function will tell you which country are you from according to your input city \n",
    "# Define the list of cities per country\n",
    "india_cities = [\"Mumbai\", \"Bangalore\", \"Chennai\", \"Delhi\"]\n",
    "usa_cities = [\"New York\", \"Chicago\", \"Las Vegas\", \"San Francisco\"]\n",
    "uk_cities = [\"London\", \"Manchester\", \"Liverpool\", \"Nottingham\"]\n",
    "# Function to determine the country based on a city\n",
    "def get_country(city):\n",
    "    if city in india_cities:\n",
    "        return \"India\"\n",
    "    elif city in usa_cities:\n",
    "        return \"USA\"\n",
    "    elif city in uk_cities:\n",
    "        return \"UK\"\n",
    "    else:\n",
    "        return \"Unknown\"\n",
    "\n",
    "# Ask the user to enter a city\n",
    "user_city = input(\"Enter a city name: \")\n",
    "\n",
    "# Determine the country of the entered city\n",
    "city_country = get_country(user_city)\n",
    "\n",
    "if city_country != \"Unknown\":\n",
    "    print(f\"The city {user_city} is in {city_country}\")\n",
    "else:\n",
    "    print(\"City not found in the provided countries.\")"
   ]
  }
 ],
 "metadata": {
  "kernelspec": {
   "display_name": "Python 3",
   "language": "python",
   "name": "python3"
  },
  "language_info": {
   "codemirror_mode": {
    "name": "ipython",
    "version": 3
   },
   "file_extension": ".py",
   "mimetype": "text/x-python",
   "name": "python",
   "nbconvert_exporter": "python",
   "pygments_lexer": "ipython3",
   "version": "3.9.0"
  }
 },
 "nbformat": 4,
 "nbformat_minor": 2
}
